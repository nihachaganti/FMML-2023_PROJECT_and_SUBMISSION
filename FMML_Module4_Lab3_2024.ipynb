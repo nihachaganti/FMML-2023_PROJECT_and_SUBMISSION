{
  "nbformat": 4,
  "nbformat_minor": 0,
  "metadata": {
    "colab": {
      "provenance": []
    },
    "kernelspec": {
      "name": "python3",
      "display_name": "Python 3"
    },
    "language_info": {
      "name": "python"
    }
  },
  "cells": [
    {
      "cell_type": "markdown",
      "source": [
        "# FOUNDATIONS OF MODERN MACHINE LEARNING, IIIT Hyderabad\n",
        "# Module 4: Perceptron and Gradient Descent\n",
        "## Lab 3: Gradient Descent\n",
        "\n",
        "Gradient descent is a very important algorithm to understand, as it underpins many of the more advanced algorithms used in Machine Learning and Deep Learning.\n",
        "\n",
        "A brief overview of the algorithm is\n",
        "\n",
        "\n",
        "*   start with a random initialization of the solution.\n",
        "*   incrementally change the solution by moving in the direction of negative gradient of the objective function.\n",
        "*   repeat the previous step until some convergence criteria is met.\n",
        "\n",
        "The key equation for change in weight is:\n",
        "$$w^{k+1} \\leftarrow w^k - \\eta \\Delta J$$\n",
        "\n",
        "In this lab, we will discuss stochastic gradient descent, mini-batch gradient descent and batch gradient descent.\n"
      ],
      "metadata": {
        "id": "XYxxkQg6xCjD"
      }
    },
    {
      "cell_type": "code",
      "metadata": {
        "id": "Fr-MnaGs7JmZ"
      },
      "source": [
        "import numpy as np\n",
        "import matplotlib.pyplot as plt"
      ],
      "execution_count": 58,
      "outputs": []
    },
    {
      "cell_type": "code",
      "metadata": {
        "id": "7ob_zZms7VOu"
      },
      "source": [
        "np.random.seed(42)"
      ],
      "execution_count": 59,
      "outputs": []
    },
    {
      "cell_type": "markdown",
      "metadata": {
        "id": "v4Kix4bcChiy"
      },
      "source": [
        "# Creating the Data\n",
        "\n",
        "Let's generate some data with:\n",
        "\\begin{equation} y_0= 4 \\end{equation}\n",
        "\\begin{equation} y_1= 3 \\end{equation}\n",
        "\n",
        "and also add some noise to the data."
      ]
    },
    {
      "cell_type": "code",
      "metadata": {
        "id": "MtAS7eFZ9hX6"
      },
      "source": [
        "X = 2 * np.random.rand(100, 1)\n",
        "y = 4 + 3 * X + np.random.randn(100, 1)"
      ],
      "execution_count": 60,
      "outputs": []
    },
    {
      "cell_type": "markdown",
      "metadata": {
        "id": "zD95NaF-CxM-"
      },
      "source": [
        "Let's also plot the data we just created"
      ]
    },
    {
      "cell_type": "code",
      "metadata": {
        "colab": {
          "base_uri": "https://localhost:8080/",
          "height": 466
        },
        "id": "3IiEP4BQ7Wja",
        "outputId": "4a260a8e-65d6-4c92-d17b-68d298199ed5"
      },
      "source": [
        "plt.plot(X, y, 'b.')\n",
        "plt.xlabel('x')\n",
        "plt.ylabel('y', rotation=0)"
      ],
      "execution_count": 61,
      "outputs": [
        {
          "output_type": "execute_result",
          "data": {
            "text/plain": [
              "Text(0, 0.5, 'y')"
            ]
          },
          "metadata": {},
          "execution_count": 61
        },
        {
          "output_type": "display_data",
          "data": {
            "text/plain": [
              "<Figure size 640x480 with 1 Axes>"
            ],
            "image/png": "[encoded data removed]"
          },
          "metadata": {}
        }
      ]
    },
    {
      "cell_type": "markdown",
      "metadata": {
        "id": "ScwxpouoDDyZ"
      },
      "source": [
        "## Cost Function\n",
        "\n",
        "The equation for calculating cost function is as shown below. The cost function is only for linear regression. For other algorithms, the cost function will be different and the gradients would have to be derived from the cost functions\n",
        "\n",
        "\\begin{equation}\n",
        "J(y_{pred}) = \\frac{1}{2} m \\sum_{i=1}^{m} (h(y_{pred})^{(i)} - y^{(i)})^2\n",
        "\\end{equation}"
      ]
    },
    {
      "cell_type": "code",
      "metadata": {
        "id": "PUeTUAXH7ZaV"
      },
      "source": [
        "def cal_cost(y_pred, X, y):\n",
        "    '''\n",
        "    Calculates the cost for given X and Y.\n",
        "    y_pred = Vector of y_preds\n",
        "    X = Row of X's np.zeros((2, j))\n",
        "    y = Actual y's np.zeros((2, 1))\n",
        "\n",
        "    where:\n",
        "        j is the no of features\n",
        "    '''\n",
        "\n",
        "    m = len(y)\n",
        "\n",
        "    predictions = X.dot(y_pred)\n",
        "    cost = (1 / 2 * m) * np.sum(np.square(predictions - y))\n",
        "\n",
        "    return cost"
      ],
      "execution_count": 62,
      "outputs": []
    },
    {
      "cell_type": "markdown",
      "metadata": {
        "id": "FcXqsVNpDbKC"
      },
      "source": [
        "## Gradients\n",
        "\n",
        "\\begin{equation}\n",
        "y_{pred_0}: = y_{pred_0} -\\alpha . (1/m .\\sum_{i=1}^{m}(h(y_{pred}^{(i)} - y^{(i)}).X_0^{(i)})\n",
        "\\end{equation}\n",
        "\\begin{equation}\n",
        "y_{pred_1}: = y_{pred_1} -\\alpha . (1/m .\\sum_{i=1}^{m}(h(y_{pred}^{(i)} - y^{(i)}).X_0^{(i)})\n",
        "\\end{equation}\n",
        ".\n",
        "\n",
        ".\n",
        "\n",
        ".\n",
        "\n",
        ".\n",
        "\n",
        "\\begin{equation}\n",
        "y_{pred_j}: = y_{pred_j} -\\alpha . (1/m .\\sum_{i=1}^{m}(h(y_{pred}^{(i)} - y^{(i)}).X_0^{(i)})\n",
        "\\end{equation}"
      ]
    },
    {
      "cell_type": "code",
      "metadata": {
        "id": "fwxBFXP88NBW"
      },
      "source": [
        "def gradient_descent(X, y, y_pred, learning_rate=0.01, iterations=100):\n",
        "    '''\n",
        "    X = Matrix of X with added bias units\n",
        "    y = Vector of Y\n",
        "    y_pred = Vector of y_preds np.random.randn(j, 1)\n",
        "    learning_rate\n",
        "    iterations = no of iterations\n",
        "\n",
        "    Returns the final y_pred vector and array of cost history over no of iterations\n",
        "    '''\n",
        "\n",
        "    m = len(y)\n",
        "    cost_history = np.zeros(iterations)\n",
        "    y_pred_history = np.zeros((iterations, 2))\n",
        "\n",
        "    for it in range(iterations):\n",
        "        prediction = np.dot(X, y_pred)\n",
        "        y_pred = y_pred - (1 / m) * learning_rate * (X.T.dot((prediction - y)))\n",
        "        y_pred_history[it,:] = y_pred.T\n",
        "        cost_history[it]  = cal_cost(y_pred, X, y)\n",
        "\n",
        "    return y_pred, cost_history, y_pred_history"
      ],
      "execution_count": 63,
      "outputs": []
    },
    {
      "cell_type": "markdown",
      "metadata": {
        "id": "1iSohSB2EtK1"
      },
      "source": [
        "Let's do 1000 iterations with a learning rate of 0.01.\n",
        "We will start with a random prediction."
      ]
    },
    {
      "cell_type": "code",
      "metadata": {
        "colab": {
          "base_uri": "https://localhost:8080/"
        },
        "id": "18AX7hrU8bv5",
        "outputId": "8f258e68-5429-4c66-921b-95afa0b4eab9"
      },
      "source": [
        "lr = 0.01\n",
        "n_iter = 1000\n",
        "\n",
        "y_pred = np.random.randn(2,1)\n",
        "X_b = np.c_[np.ones((len(X), 1)), X]\n",
        "y_pred, cost_history, y_pred_history = gradient_descent(X_b, y, y_pred, lr, n_iter)\n",
        "\n",
        "print('y_pred[0]: {:0.3f}\\ny_pred[1]: {:0.3f}'.format(y_pred[0][0], y_pred[1][0]))\n",
        "print('Final error: {:0.3f}'.format(cost_history[-1]))"
      ],
      "execution_count": 64,
      "outputs": [
        {
          "output_type": "stream",
          "name": "stdout",
          "text": [
            "y_pred[0]: 3.903\n",
            "y_pred[1]: 3.046\n",
            "Final error: 4180.375\n"
          ]
        }
      ]
    },
    {
      "cell_type": "markdown",
      "metadata": {
        "id": "m7fao2MaE216"
      },
      "source": [
        "Plotting the error vs Number of iterations"
      ]
    },
    {
      "cell_type": "code",
      "metadata": {
        "colab": {
          "base_uri": "https://localhost:8080/",
          "height": 713
        },
        "id": "DrkrAAbk8hIs",
        "outputId": "7496a972-143c-4839-ff3d-95b466fe8fe0"
      },
      "source": [
        "fig, ax = plt.subplots(figsize=(12,8))\n",
        "\n",
        "ax.set_ylabel('Error')\n",
        "ax.set_xlabel('Number of iterations')\n",
        "\n",
        "ax.plot(range(n_iter), cost_history, 'b.')"
      ],
      "execution_count": 65,
      "outputs": [
        {
          "output_type": "execute_result",
          "data": {
            "text/plain": [
              "[<matplotlib.lines.Line2D at 0x7c092b20e7a0>]"
            ]
          },
          "metadata": {},
          "execution_count": 65
        },
        {
          "output_type": "display_data",
          "data": {
            "text/plain": [
              "<Figure size 1200x800 with 1 Axes>"
            ],
            "image/png": "[encoded data removed]"
          },
          "metadata": {}
        }
      ]
    },
    {
      "cell_type": "markdown",
      "metadata": {
        "id": "IG5tWAy-FCaW"
      },
      "source": [
        "Zooming in..."
      ]
    },
    {
      "cell_type": "code",
      "metadata": {
        "colab": {
          "base_uri": "https://localhost:8080/",
          "height": 693
        },
        "id": "WZ7BoFHy8kTk",
        "outputId": "8de80be2-ba93-4959-8ada-3eeebe9f96c4"
      },
      "source": [
        "fig,ax = plt.subplots(figsize=(10,8))\n",
        "ax.plot(range(200), cost_history[:200], 'b.')"
      ],
      "execution_count": 66,
      "outputs": [
        {
          "output_type": "execute_result",
          "data": {
            "text/plain": [
              "[<matplotlib.lines.Line2D at 0x7c092b0a4f10>]"
            ]
          },
          "metadata": {},
          "execution_count": 66
        },
        {
          "output_type": "display_data",
          "data": {
            "text/plain": [
              "<Figure size 1000x800 with 1 Axes>"
            ],
            "image/png": "[encoded data removed]"
          },
          "metadata": {}
        }
      ]
    },
    {
      "cell_type": "markdown",
      "metadata": {
        "id": "JYhOp3fjnh2G"
      },
      "source": [
        "# Stochastic Gradient Descent"
      ]
    },
    {
      "cell_type": "markdown",
      "source": [
        "In Batch Gradient Descent we were considering all the examples for every step of Gradient Descent. But what if our dataset is very huge. Deep learning models crave for data. The more the data the more chances of a model to be good. Suppose our dataset has 5 million examples, then just to take one step the model will have to calculate the gradients of all the 5 million examples. This does not seem an efficient way. To tackle this problem we have Stochastic Gradient Descent. In Stochastic Gradient Descent (SGD), we consider just one example at a time to take a single step."
      ],
      "metadata": {
        "id": "10N2dcwWUctJ"
      }
    },
    {
      "cell_type": "code",
      "metadata": {
        "id": "aVwD7Cqw8m1d"
      },
      "source": [
        "def stocashtic_gradient_descent(X, y, y_pred, learning_rate=0.01, iterations=10):\n",
        "    '''\n",
        "    X = Matrix of X with added bias units\n",
        "    y = Vector of Y\n",
        "    y_pred = Vector of y_pred np.random.randn(j,1)\n",
        "    learning_rate\n",
        "    iterations = no of iterations\n",
        "\n",
        "    Returns the final y_pred vector and array of cost history over no of iterations\n",
        "    '''\n",
        "\n",
        "    m = len(y)\n",
        "    cost_history = np.zeros(iterations)\n",
        "\n",
        "    for it in range(iterations):\n",
        "        cost = 0.0\n",
        "\n",
        "        for i in range(m):\n",
        "            rand_ind = np.random.randint(0,m)\n",
        "            X_i = X[rand_ind, :].reshape(1, X.shape[1])\n",
        "            y_i = y[rand_ind].reshape(1,1)\n",
        "            prediction = np.dot(X_i, y_pred)\n",
        "\n",
        "            y_pred = y_pred - (1 / m) * learning_rate *(X_i.T.dot((prediction - y_i)))\n",
        "            cost += cal_cost(y_pred, X_i, y_i)\n",
        "\n",
        "        cost_history[it]  = cost\n",
        "\n",
        "    return y_pred, cost_history"
      ],
      "execution_count": 67,
      "outputs": []
    },
    {
      "cell_type": "code",
      "metadata": {
        "colab": {
          "base_uri": "https://localhost:8080/"
        },
        "id": "Yk6pfB5c8tPz",
        "outputId": "23b26f4a-de0a-430d-8a54-4e76d19b5485"
      },
      "source": [
        "lr = 0.5\n",
        "n_iter = 50\n",
        "y_pred = np.random.randn(2, 1)\n",
        "X_b = np.c_[np.ones((len(X), 1)), X]\n",
        "y_pred, cost_history = stocashtic_gradient_descent(X_b, y, y_pred, lr, n_iter)\n",
        "\n",
        "print('y_pred[0]: {:0.3f}\\ny_pred[1]: {:0.3f}'.format(y_pred[0][0], y_pred[1][0]))\n",
        "print('Final error: {:0.3f}'.format(cost_history[-1]))"
      ],
      "execution_count": 68,
      "outputs": [
        {
          "output_type": "stream",
          "name": "stdout",
          "text": [
            "y_pred[0]: 4.121\n",
            "y_pred[1]: 2.755\n",
            "Final error: 41.313\n"
          ]
        }
      ]
    },
    {
      "cell_type": "code",
      "metadata": {
        "colab": {
          "base_uri": "https://localhost:8080/",
          "height": 713
        },
        "id": "YiJUgS7o8u2e",
        "outputId": "4361968a-477d-4cc7-b9f0-a1011fdd417d"
      },
      "source": [
        "fig, ax = plt.subplots(figsize=(10,8))\n",
        "\n",
        "ax.set_ylabel('Error')\n",
        "ax.set_xlabel('Number of iterations')\n",
        "y_pred = np.random.randn(2,1)\n",
        "\n",
        "ax.plot(range(n_iter), cost_history, 'b.')"
      ],
      "execution_count": 69,
      "outputs": [
        {
          "output_type": "execute_result",
          "data": {
            "text/plain": [
              "[<matplotlib.lines.Line2D at 0x7c092af3d5d0>]"
            ]
          },
          "metadata": {},
          "execution_count": 69
        },
        {
          "output_type": "display_data",
          "data": {
            "text/plain": [
              "<Figure size 1000x800 with 1 Axes>"
            ],
            "image/png": "[encoded data removed]"
          },
          "metadata": {}
        }
      ]
    },
    {
      "cell_type": "markdown",
      "metadata": {
        "id": "ScckWktynk1o"
      },
      "source": [
        "# Mini Batch Gradient Descent"
      ]
    },
    {
      "cell_type": "markdown",
      "source": [
        "We have seen the Batch Gradient Descent. We have also seen the Stochastic Gradient Descent. Batch Gradient Descent can be used for smoother curves. SGD can be used when the dataset is large. Batch Gradient Descent converges directly to minima. SGD converges faster for larger datasets. But, since in SGD we use only one example at a time, we cannot implement the vectorized implementation on it. This can slow down the computations. To tackle this problem, a mixture of Batch Gradient Descent and SGD is used.\n",
        "Neither we use all the dataset all at once nor we use the single example at a time. We use a batch of a fixed number of training examples which is less than the actual dataset and call it a mini-batch. Doing this helps us achieve the advantages of both the former variants we saw."
      ],
      "metadata": {
        "id": "ZTVz-QssUkuE"
      }
    },
    {
      "cell_type": "code",
      "metadata": {
        "id": "4JtxFVL78wEm"
      },
      "source": [
        "def minibatch_gradient_descent(X, y, y_pred, learning_rate=0.01, iterations=10, batch_size=20):\n",
        "    '''\n",
        "    X = Matrix of X without added bias units\n",
        "    y = Vector of Y\n",
        "    y_pred = Vector of y_preds np.random.randn(j, 1)\n",
        "    learning_rate\n",
        "    iterations = no of iterations\n",
        "\n",
        "    Returns the final theta vector and array of cost history over no of iterations\n",
        "    '''\n",
        "\n",
        "    m = len(y)\n",
        "    cost_history = np.zeros(iterations)\n",
        "    n_batches = int(m / batch_size)\n",
        "\n",
        "    for it in range(iterations):\n",
        "        cost = 0.0\n",
        "        indices = np.random.permutation(m)\n",
        "        X = X[indices]\n",
        "        y = y[indices]\n",
        "\n",
        "        for i in range(0, m, batch_size):\n",
        "            X_i = X[i: i + batch_size]\n",
        "            y_i = y[i: i + batch_size]\n",
        "\n",
        "            X_i = np.c_[np.ones(len(X_i)), X_i]\n",
        "            prediction = np.dot(X_i, y_pred)\n",
        "\n",
        "            y_pred = y_pred - (1 / m) * learning_rate * (X_i.T.dot((prediction - y_i)))\n",
        "            cost += cal_cost(y_pred, X_i, y_i)\n",
        "\n",
        "        cost_history[it]  = cost\n",
        "\n",
        "    return y_pred, cost_history"
      ],
      "execution_count": 70,
      "outputs": []
    },
    {
      "cell_type": "code",
      "metadata": {
        "colab": {
          "base_uri": "https://localhost:8080/"
        },
        "id": "SpbsVwA28znL",
        "outputId": "81ee19e6-15d0-4ec3-c45c-55fd6f734396"
      },
      "source": [
        "lr = 0.1\n",
        "n_iter = 200\n",
        "y_pred = np.random.randn(2,1)\n",
        "y_pred, cost_history = minibatch_gradient_descent(X, y, y_pred, lr, n_iter)\n",
        "\n",
        "print('y_pred[0]: {:0.3f}\\ny_pred[1]: {:0.3f}'.format(y_pred[0][0], y_pred[1][0]))\n",
        "print('Final error: {:0.3f}'.format(cost_history[-1]))"
      ],
      "execution_count": 71,
      "outputs": [
        {
          "output_type": "stream",
          "name": "stdout",
          "text": [
            "y_pred[0]: 4.148\n",
            "y_pred[1]: 2.827\n",
            "Final error: 807.488\n"
          ]
        }
      ]
    },
    {
      "cell_type": "code",
      "metadata": {
        "colab": {
          "base_uri": "https://localhost:8080/",
          "height": 713
        },
        "id": "Q_ivOYHT817C",
        "outputId": "52032240-cec0-4785-b5ec-ca58809f9f89"
      },
      "source": [
        "fig, ax = plt.subplots(figsize=(10,8))\n",
        "\n",
        "ax.set_ylabel('Error')\n",
        "ax.set_xlabel('Number of iterations')\n",
        "y_pred = np.random.randn(2,1)\n",
        "\n",
        "ax.plot(range(n_iter), cost_history, 'b.')"
      ],
      "execution_count": 72,
      "outputs": [
        {
          "output_type": "execute_result",
          "data": {
            "text/plain": [
              "[<matplotlib.lines.Line2D at 0x7c092afaa710>]"
            ]
          },
          "metadata": {},
          "execution_count": 72
        },
        {
          "output_type": "display_data",
          "data": {
            "text/plain": [
              "<Figure size 1000x800 with 1 Axes>"
            ],
            "image/png": "[encoded data removed]"
          },
          "metadata": {}
        }
      ]
    },
    {
      "cell_type": "code",
      "source": [
        "from google.colab import files\n",
        "files.upload()"
      ],
      "metadata": {
        "id": "sk5W-OqNt3O5",
        "outputId": "fa4ae5e3-a41e-421a-8de6-45f11b4a8bce",
        "colab": {
          "base_uri": "https://localhost:8080/",
          "height": 128
        }
      },
      "execution_count": 86,
      "outputs": [
        {
          "output_type": "display_data",
          "data": {
            "text/plain": [
              "<IPython.core.display.HTML object>"
            ],
            "text/html": [
              "\n",
              "     <input type=\"file\" id=\"files-8685e61c-2d13-479d-806b-fe5f0389e689\" name=\"files[]\" multiple disabled\n",
              "        style=\"border:none\" />\n",
              "     <output id=\"result-8685e61c-2d13-479d-806b-fe5f0389e689\">\n",
              "      Upload widget is only available when the cell has been executed in the\n",
              "      current browser session. Please rerun this cell to enable.\n",
              "      </output>\n",
              "      <script>// Copyright 2017 Google LLC\n",
              "//\n",
              "// Licensed under the Apache License, Version 2.0 (the \"License\");\n",
              "// you may not use this file except in compliance with the License.\n",
              "// You may obtain a copy of the License at\n",
              "//\n",
              "//      http://www.apache.org/licenses/LICENSE-2.0\n",
              "//\n",
              "// Unless required by applicable law or agreed to in writing, software\n",
              "// distributed under the License is distributed on an \"AS IS\" BASIS,\n",
              "// WITHOUT WARRANTIES OR CONDITIONS OF ANY KIND, either express or implied.\n",
              "// See the License for the specific language governing permissions and\n",
              "// limitations under the License.\n",
              "\n",
              "/**\n",
              " * @fileoverview Helpers for google.colab Python module.\n",
              " */\n",
              "(function(scope) {\n",
              "function span(text, styleAttributes = {}) {\n",
              "  const element = document.createElement('span');\n",
              "  element.textContent = text;\n",
              "  for (const key of Object.keys(styleAttributes)) {\n",
              "    element.style[key] = styleAttributes[key];\n",
              "  }\n",
              "  return element;\n",
              "}\n",
              "\n",
              "// Max number of bytes which will be uploaded at a time.\n",
              "const MAX_PAYLOAD_SIZE = 100 * 1024;\n",
              "\n",
              "function _uploadFiles(inputId, outputId) {\n",
              "  const steps = uploadFilesStep(inputId, outputId);\n",
              "  const outputElement = document.getElementById(outputId);\n",
              "  // Cache steps on the outputElement to make it available for the next call\n",
              "  // to uploadFilesContinue from Python.\n",
              "  outputElement.steps = steps;\n",
              "\n",
              "  return _uploadFilesContinue(outputId);\n",
              "}\n",
              "\n",
              "// This is roughly an async generator (not supported in the browser yet),\n",
              "// where there are multiple asynchronous steps and the Python side is going\n",
              "// to poll for completion of each step.\n",
              "// This uses a Promise to block the python side on completion of each step,\n",
              "// then passes the result of the previous step as the input to the next step.\n",
              "function _uploadFilesContinue(outputId) {\n",
              "  const outputElement = document.getElementById(outputId);\n",
              "  const steps = outputElement.steps;\n",
              "\n",
              "  const next = steps.next(outputElement.lastPromiseValue);\n",
              "  return Promise.resolve(next.value.promise).then((value) => {\n",
              "    // Cache the last promise value to make it available to the next\n",
              "    // step of the generator.\n",
              "    outputElement.lastPromiseValue = value;\n",
              "    return next.value.response;\n",
              "  });\n",
              "}\n",
              "\n",
              "/**\n",
              " * Generator function which is called between each async step of the upload\n",
              " * process.\n",
              " * @param {string} inputId Element ID of the input file picker element.\n",
              " * @param {string} outputId Element ID of the output display.\n",
              " * @return {!Iterable<!Object>} Iterable of next steps.\n",
              " */\n",
              "function* uploadFilesStep(inputId, outputId) {\n",
              "  const inputElement = document.getElementById(inputId);\n",
              "  inputElement.disabled = false;\n",
              "\n",
              "  const outputElement = document.getElementById(outputId);\n",
              "  outputElement.innerHTML = '';\n",
              "\n",
              "  const pickedPromise = new Promise((resolve) => {\n",
              "    inputElement.addEventListener('change', (e) => {\n",
              "      resolve(e.target.files);\n",
              "    });\n",
              "  });\n",
              "\n",
              "  const cancel = document.createElement('button');\n",
              "  inputElement.parentElement.appendChild(cancel);\n",
              "  cancel.textContent = 'Cancel upload';\n",
              "  const cancelPromise = new Promise((resolve) => {\n",
              "    cancel.onclick = () => {\n",
              "      resolve(null);\n",
              "    };\n",
              "  });\n",
              "\n",
              "  // Wait for the user to pick the files.\n",
              "  const files = yield {\n",
              "    promise: Promise.race([pickedPromise, cancelPromise]),\n",
              "    response: {\n",
              "      action: 'starting',\n",
              "    }\n",
              "  };\n",
              "\n",
              "  cancel.remove();\n",
              "\n",
              "  // Disable the input element since further picks are not allowed.\n",
              "  inputElement.disabled = true;\n",
              "\n",
              "  if (!files) {\n",
              "    return {\n",
              "      response: {\n",
              "        action: 'complete',\n",
              "      }\n",
              "    };\n",
              "  }\n",
              "\n",
              "  for (const file of files) {\n",
              "    const li = document.createElement('li');\n",
              "    li.append(span(file.name, {fontWeight: 'bold'}));\n",
              "    li.append(span(\n",
              "        `(${file.type || 'n/a'}) - ${file.size} bytes, ` +\n",
              "        `last modified: ${\n",
              "            file.lastModifiedDate ? file.lastModifiedDate.toLocaleDateString() :\n",
              "                                    'n/a'} - `));\n",
              "    const percent = span('0% done');\n",
              "    li.appendChild(percent);\n",
              "\n",
              "    outputElement.appendChild(li);\n",
              "\n",
              "    const fileDataPromise = new Promise((resolve) => {\n",
              "      const reader = new FileReader();\n",
              "      reader.onload = (e) => {\n",
              "        resolve(e.target.result);\n",
              "      };\n",
              "      reader.readAsArrayBuffer(file);\n",
              "    });\n",
              "    // Wait for the data to be ready.\n",
              "    let fileData = yield {\n",
              "      promise: fileDataPromise,\n",
              "      response: {\n",
              "        action: 'continue',\n",
              "      }\n",
              "    };\n",
              "\n",
              "    // Use a chunked sending to avoid message size limits. See b/62115660.\n",
              "    let position = 0;\n",
              "    do {\n",
              "      const length = Math.min(fileData.byteLength - position, MAX_PAYLOAD_SIZE);\n",
              "      const chunk = new Uint8Array(fileData, position, length);\n",
              "      position += length;\n",
              "\n",
              "      const base64 = btoa(String.fromCharCode.apply(null, chunk));\n",
              "      yield {\n",
              "        response: {\n",
              "          action: 'append',\n",
              "          file: file.name,\n",
              "          data: base64,\n",
              "        },\n",
              "      };\n",
              "\n",
              "      let percentDone = fileData.byteLength === 0 ?\n",
              "          100 :\n",
              "          Math.round((position / fileData.byteLength) * 100);\n",
              "      percent.textContent = `${percentDone}% done`;\n",
              "\n",
              "    } while (position < fileData.byteLength);\n",
              "  }\n",
              "\n",
              "  // All done.\n",
              "  yield {\n",
              "    response: {\n",
              "      action: 'complete',\n",
              "    }\n",
              "  };\n",
              "}\n",
              "\n",
              "scope.google = scope.google || {};\n",
              "scope.google.colab = scope.google.colab || {};\n",
              "scope.google.colab._files = {\n",
              "  _uploadFiles,\n",
              "  _uploadFilesContinue,\n",
              "};\n",
              "})(self);\n",
              "</script> "
            ]
          },
          "metadata": {}
        },
        {
          "output_type": "stream",
          "name": "stdout",
          "text": [
            "Saving preprocessed_diabetes_data.csv to preprocessed_diabetes_data (1).csv\n"
          ]
        },
        {
          "output_type": "execute_result",
          "data": {
            "text/plain": [
              "{'preprocessed_diabetes_data (1).csv': b'Pregnancies,Glucose,BloodPressure,SkinThickness,Insulin,BMI,DiabetesPedigreeFunction,Age,Outcome\\n6,148.0,72.0,35.0,125.0,33.6,0.627,50,1\\n1,85.0,66.0,29.0,125.0,26.6,0.35100000000000003,31,0\\n8,183.0,64.0,29.0,125.0,23.3,0.672,32,1\\n1,89.0,66.0,23.0,94.0,28.1,0.16699999999999998,21,0\\n0,137.0,40.0,35.0,168.0,43.1,2.2880000000000003,33,1\\n5,116.0,74.0,29.0,125.0,25.6,0.201,30,0\\n3,78.0,50.0,32.0,88.0,31.0,0.248,26,1\\n10,115.0,72.40518417462485,29.0,125.0,35.3,0.134,29,0\\n2,197.0,70.0,45.0,543.0,30.5,0.158,53,1\\n8,125.0,96.0,29.0,125.0,32.3,0.23199999999999998,54,1\\n4,110.0,92.0,29.0,125.0,37.6,0.191,30,0\\n10,168.0,74.0,29.0,125.0,38.0,0.537,34,1\\n10,139.0,80.0,29.0,125.0,27.1,1.4409999999999998,57,0\\n1,189.0,60.0,23.0,846.0,30.1,0.39799999999999996,59,1\\n5,166.0,72.0,19.0,175.0,25.8,0.5870000000000001,51,1\\n7,100.0,72.40518417462485,29.0,125.0,30.0,0.484,32,1\\n0,118.0,84.0,47.0,230.0,45.8,0.551,31,1\\n7,107.0,74.0,29.0,125.0,29.6,0.254,31,1\\n1,103.0,30.0,38.0,83.0,43.3,0.183,33,0\\n1,115.0,70.0,30.0,96.0,34.6,0.529,32,1\\n3,126.0,88.0,41.0,235.0,39.3,0.7040000000000001,27,0\\n8,99.0,84.0,29.0,125.0,35.4,0.38799999999999996,50,0\\n7,196.0,90.0,29.0,125.0,39.8,0.451,41,1\\n9,119.0,80.0,35.0,125.0,29.0,0.263,29,1\\n11,143.0,94.0,33.0,146.0,36.6,0.254,51,1\\n10,125.0,70.0,26.0,115.0,31.1,0.205,41,1\\n7,147.0,76.0,29.0,125.0,39.4,0.257,43,1\\n1,97.0,66.0,15.0,140.0,23.2,0.48700000000000004,22,0\\n13,145.0,82.0,19.0,110.0,22.2,0.245,57,0\\n5,117.0,92.0,29.0,125.0,34.1,0.337,38,0\\n5,109.0,75.0,26.0,125.0,36.0,0.546,60,0\\n3,158.0,76.0,36.0,245.0,31.6,0.851,28,1\\n3,88.0,58.0,11.0,54.0,24.8,0.267,22,0\\n6,92.0,92.0,29.0,125.0,19.9,0.188,28,0\\n10,122.0,78.0,31.0,125.0,27.6,0.512,45,0\\n4,103.0,60.0,33.0,192.0,24.0,0.966,33,0\\n11,138.0,76.0,29.0,125.0,33.2,0.42,35,0\\n9,102.0,76.0,37.0,125.0,32.9,0.665,46,1\\n2,90.0,68.0,42.0,125.0,38.2,0.503,27,1\\n4,111.0,72.0,47.0,207.0,37.1,1.39,56,1\\n3,180.0,64.0,25.0,70.0,34.0,0.271,26,0\\n7,133.0,84.0,29.0,125.0,40.2,0.696,37,0\\n7,106.0,92.0,18.0,125.0,22.7,0.235,48,0\\n9,171.0,110.0,24.0,240.0,45.4,0.721,54,1\\n7,159.0,64.0,29.0,125.0,27.4,0.294,40,0\\n0,180.0,66.0,39.0,125.0,42.0,1.893,25,1\\n1,146.0,56.0,29.0,125.0,29.7,0.564,29,0\\n2,71.0,70.0,27.0,125.0,28.0,0.586,22,0\\n7,103.0,66.0,32.0,125.0,39.1,0.344,31,1\\n7,105.0,72.40518417462485,29.0,125.0,32.3,0.305,24,0\\n1,103.0,80.0,11.0,82.0,19.4,0.491,22,0\\n1,101.0,50.0,15.0,36.0,24.2,0.526,26,0\\n5,88.0,66.0,21.0,23.0,24.4,0.342,30,0\\n8,176.0,90.0,34.0,300.0,33.7,0.467,58,1\\n7,150.0,66.0,42.0,342.0,34.7,0.718,42,0\\n1,73.0,50.0,10.0,125.0,23.0,0.248,21,0\\n7,187.0,68.0,39.0,304.0,37.7,0.254,41,1\\n0,100.0,88.0,60.0,110.0,46.8,0.9620000000000001,31,0\\n0,146.0,82.0,29.0,125.0,40.5,1.781,44,0\\n0,105.0,64.0,41.0,142.0,41.5,0.17300000000000001,22,0\\n2,84.0,72.40518417462485,29.0,125.0,32.3,0.304,21,0\\n8,133.0,72.0,29.0,125.0,32.9,0.27,39,1\\n5,44.0,62.0,29.0,125.0,25.0,0.5870000000000001,36,0\\n2,141.0,58.0,34.0,128.0,25.4,0.6990000000000001,24,0\\n7,114.0,66.0,29.0,125.0,32.8,0.258,42,1\\n5,99.0,74.0,27.0,125.0,29.0,0.203,32,0\\n0,109.0,88.0,30.0,125.0,32.5,0.855,38,1\\n2,109.0,92.0,29.0,125.0,42.7,0.845,54,0\\n1,95.0,66.0,13.0,38.0,19.6,0.33399999999999996,25,0\\n4,146.0,85.0,27.0,100.0,28.9,0.18899999999999997,27,0\\n2,100.0,66.0,20.0,90.0,32.9,0.867,28,1\\n5,139.0,64.0,35.0,140.0,28.6,0.41100000000000003,26,0\\n13,126.0,90.0,29.0,125.0,43.4,0.583,42,1\\n4,129.0,86.0,20.0,270.0,35.1,0.231,23,0\\n1,79.0,75.0,30.0,125.0,32.0,0.396,22,0\\n1,121.6867627785059,48.0,20.0,125.0,24.7,0.14,22,0\\n7,62.0,78.0,29.0,125.0,32.6,0.391,41,0\\n5,95.0,72.0,33.0,125.0,37.7,0.37,27,0\\n0,131.0,72.40518417462485,29.0,125.0,43.2,0.27,26,1\\n2,112.0,66.0,22.0,125.0,25.0,0.307,24,0\\n3,113.0,44.0,13.0,125.0,22.4,0.14,22,0\\n2,74.0,72.40518417462485,29.0,125.0,32.3,0.102,22,0\\n7,83.0,78.0,26.0,71.0,29.3,0.767,36,0\\n0,101.0,65.0,28.0,125.0,24.6,0.237,22,0\\n5,137.0,108.0,29.0,125.0,48.8,0.22699999999999998,37,1\\n2,110.0,74.0,29.0,125.0,32.4,0.698,27,0\\n13,106.0,72.0,54.0,125.0,36.6,0.17800000000000002,45,0\\n2,100.0,68.0,25.0,71.0,38.5,0.324,26,0\\n15,136.0,70.0,32.0,110.0,37.1,0.153,43,1\\n1,107.0,68.0,19.0,125.0,26.5,0.165,24,0\\n1,80.0,55.0,29.0,125.0,19.1,0.258,21,0\\n4,123.0,80.0,15.0,176.0,32.0,0.44299999999999995,34,0\\n7,81.0,78.0,40.0,48.0,46.7,0.261,42,0\\n4,134.0,72.0,29.0,125.0,23.8,0.27699999999999997,60,1\\n2,142.0,82.0,18.0,64.0,24.7,0.7609999999999999,21,0\\n6,144.0,72.0,27.0,228.0,33.9,0.255,40,0\\n2,92.0,62.0,28.0,125.0,31.6,0.13,24,0\\n1,71.0,48.0,18.0,76.0,20.4,0.32299999999999995,22,0\\n6,93.0,50.0,30.0,64.0,28.7,0.35600000000000004,23,0\\n1,122.0,90.0,51.0,220.0,49.7,0.325,31,1\\n1,163.0,72.0,29.0,125.0,39.0,1.222,33,1\\n1,151.0,60.0,29.0,125.0,26.1,0.179,22,0\\n0,125.0,96.0,29.0,125.0,22.5,0.262,21,0\\n1,81.0,72.0,18.0,40.0,26.6,0.28300000000000003,24,0\\n2,85.0,65.0,29.0,125.0,39.6,0.93,27,0\\n1,126.0,56.0,29.0,152.0,28.7,0.8009999999999999,21,0\\n1,96.0,122.0,29.0,125.0,22.4,0.207,27,0\\n4,144.0,58.0,28.0,140.0,29.5,0.287,37,0\\n3,83.0,58.0,31.0,18.0,34.3,0.336,25,0\\n0,95.0,85.0,25.0,36.0,37.4,0.247,24,1\\n3,171.0,72.0,33.0,135.0,33.3,0.19899999999999998,24,1\\n8,155.0,62.0,26.0,495.0,34.0,0.5429999999999999,46,1\\n1,89.0,76.0,34.0,37.0,31.2,0.192,23,0\\n4,76.0,62.0,29.0,125.0,34.0,0.391,25,0\\n7,160.0,54.0,32.0,175.0,30.5,0.588,39,1\\n4,146.0,92.0,29.0,125.0,31.2,0.539,61,1\\n5,124.0,74.0,29.0,125.0,34.0,0.22,38,1\\n5,78.0,48.0,29.0,125.0,33.7,0.654,25,0\\n4,97.0,60.0,23.0,125.0,28.2,0.44299999999999995,22,0\\n4,99.0,76.0,15.0,51.0,23.2,0.223,21,0\\n0,162.0,76.0,56.0,100.0,53.2,0.759,25,1\\n6,111.0,64.0,39.0,125.0,34.2,0.26,24,0\\n2,107.0,74.0,30.0,100.0,33.6,0.40399999999999997,23,0\\n5,132.0,80.0,29.0,125.0,26.8,0.18600000000000005,69,0\\n0,113.0,76.0,29.0,125.0,33.3,0.278,23,1\\n1,88.0,30.0,42.0,99.0,55.0,0.496,26,1\\n3,120.0,70.0,30.0,135.0,42.9,0.452,30,0\\n1,118.0,58.0,36.0,94.0,33.3,0.261,23,0\\n1,117.0,88.0,24.0,145.0,34.5,0.40299999999999997,40,1\\n0,105.0,84.0,29.0,125.0,27.9,0.741,62,1\\n4,173.0,70.0,14.0,168.0,29.7,0.361,33,1\\n9,122.0,56.0,29.0,125.0,33.3,1.114,33,1\\n3,170.0,64.0,37.0,225.0,34.5,0.35600000000000004,30,1\\n8,84.0,74.0,31.0,125.0,38.3,0.457,39,0\\n2,96.0,68.0,13.0,49.0,21.1,0.647,26,0\\n2,125.0,60.0,20.0,140.0,33.8,0.08800000000000001,31,0\\n0,100.0,70.0,26.0,50.0,30.8,0.597,21,0\\n0,93.0,60.0,25.0,92.0,28.7,0.532,22,0\\n0,129.0,80.0,29.0,125.0,31.2,0.703,29,0\\n5,105.0,72.0,29.0,325.0,36.9,0.159,28,0\\n3,128.0,78.0,29.0,125.0,21.1,0.268,55,0\\n5,106.0,82.0,30.0,125.0,39.5,0.28600000000000003,38,0\\n2,108.0,52.0,26.0,63.0,32.5,0.318,22,0\\n10,108.0,66.0,29.0,125.0,32.4,0.272,42,1\\n4,154.0,62.0,31.0,284.0,32.8,0.237,23,0\\n0,102.0,75.0,23.0,125.0,32.3,0.5720000000000001,21,0\\n9,57.0,80.0,37.0,125.0,32.8,0.096,41,0\\n2,106.0,64.0,35.0,119.0,30.5,1.4,34,0\\n5,147.0,78.0,29.0,125.0,33.7,0.218,65,0\\n2,90.0,70.0,17.0,125.0,27.3,0.085,22,0\\n1,136.0,74.0,50.0,204.0,37.4,0.39899999999999997,24,0\\n4,114.0,65.0,29.0,125.0,21.9,0.4320000000000001,37,0\\n9,156.0,86.0,28.0,155.0,34.3,1.189,42,1\\n1,153.0,82.0,42.0,485.0,40.6,0.687,23,0\\n8,188.0,78.0,29.0,125.0,47.9,0.13699999999999998,43,1\\n7,152.0,88.0,44.0,125.0,50.0,0.337,36,1\\n2,99.0,52.0,15.0,94.0,24.6,0.637,21,0\\n1,109.0,56.0,21.0,135.0,25.2,0.833,23,0\\n2,88.0,74.0,19.0,53.0,29.0,0.22899999999999998,22,0\\n17,163.0,72.0,41.0,114.0,40.9,0.8170000000000001,47,1\\n4,151.0,90.0,38.0,125.0,29.7,0.294,36,0\\n7,102.0,74.0,40.0,105.0,37.2,0.204,45,0\\n0,114.0,80.0,34.0,285.0,44.2,0.16699999999999998,27,0\\n2,100.0,64.0,23.0,125.0,29.7,0.368,21,0\\n0,131.0,88.0,29.0,125.0,31.6,0.743,32,1\\n6,104.0,74.0,18.0,156.0,29.9,0.722,41,1\\n3,148.0,66.0,25.0,125.0,32.5,0.256,22,0\\n4,120.0,68.0,29.0,125.0,29.6,0.7090000000000001,34,0\\n4,110.0,66.0,29.0,125.0,31.9,0.47100000000000003,29,0\\n3,111.0,90.0,12.0,78.0,28.4,0.495,29,0\\n6,102.0,82.0,29.0,125.0,30.8,0.18,36,1\\n6,134.0,70.0,23.0,130.0,35.4,0.542,29,1\\n2,87.0,72.40518417462485,23.0,125.0,28.9,0.773,25,0\\n1,79.0,60.0,42.0,48.0,43.5,0.6779999999999999,23,0\\n2,75.0,64.0,24.0,55.0,29.7,0.37,33,0\\n8,179.0,72.0,42.0,130.0,32.7,0.7190000000000001,36,1\\n6,85.0,78.0,29.0,125.0,31.2,0.382,42,0\\n0,129.0,110.0,46.0,130.0,67.1,0.319,26,1\\n5,143.0,78.0,29.0,125.0,45.0,0.19,47,0\\n5,130.0,82.0,29.0,125.0,39.1,0.956,37,1\\n6,87.0,80.0,29.0,125.0,23.2,0.084,32,0\\n0,119.0,64.0,18.0,92.0,34.9,0.725,23,0\\n1,121.6867627785059,74.0,20.0,23.0,27.7,0.299,21,0\\n5,73.0,60.0,29.0,125.0,26.8,0.268,27,0\\n4,141.0,74.0,29.0,125.0,27.6,0.244,40,0\\n7,194.0,68.0,28.0,125.0,35.9,0.745,41,1\\n8,181.0,68.0,36.0,495.0,30.1,0.615,60,1\\n1,128.0,98.0,41.0,58.0,32.0,1.321,33,1\\n8,109.0,76.0,39.0,114.0,27.9,0.64,31,1\\n5,139.0,80.0,35.0,160.0,31.6,0.361,25,1\\n3,111.0,62.0,29.0,125.0,22.6,0.142,21,0\\n9,123.0,70.0,44.0,94.0,33.1,0.374,40,0\\n7,159.0,66.0,29.0,125.0,30.4,0.38299999999999995,36,1\\n11,135.0,72.40518417462485,29.0,125.0,52.3,0.578,40,1\\n8,85.0,55.0,20.0,125.0,24.4,0.136,42,0\\n5,158.0,84.0,41.0,210.0,39.4,0.395,29,1\\n1,105.0,58.0,29.0,125.0,24.3,0.187,21,0\\n3,107.0,62.0,13.0,48.0,22.9,0.6779999999999999,23,1\\n4,109.0,64.0,44.0,99.0,34.8,0.905,26,1\\n4,148.0,60.0,27.0,318.0,30.9,0.15,29,1\\n0,113.0,80.0,16.0,125.0,31.0,0.8740000000000001,21,0\\n1,138.0,82.0,29.0,125.0,40.1,0.23600000000000002,28,0\\n0,108.0,68.0,20.0,125.0,27.3,0.787,32,0\\n2,99.0,70.0,16.0,44.0,20.4,0.235,27,0\\n6,103.0,72.0,32.0,190.0,37.7,0.324,55,0\\n5,111.0,72.0,28.0,125.0,23.9,0.40700000000000003,27,0\\n8,196.0,76.0,29.0,280.0,37.5,0.605,57,1\\n5,162.0,104.0,29.0,125.0,37.7,0.151,52,1\\n1,96.0,64.0,27.0,87.0,33.2,0.289,21,0\\n7,184.0,84.0,33.0,125.0,35.5,0.355,41,1\\n2,81.0,60.0,22.0,125.0,27.7,0.29,25,0\\n0,147.0,85.0,54.0,125.0,42.8,0.375,24,0\\n7,179.0,95.0,31.0,125.0,34.2,0.16399999999999998,60,0\\n0,140.0,65.0,26.0,130.0,42.6,0.431,24,1\\n9,112.0,82.0,32.0,175.0,34.2,0.26,36,1\\n12,151.0,70.0,40.0,271.0,41.8,0.742,38,1\\n5,109.0,62.0,41.0,129.0,35.8,0.514,25,1\\n6,125.0,68.0,30.0,120.0,30.0,0.46399999999999997,32,0\\n5,85.0,74.0,22.0,125.0,29.0,1.224,32,1\\n5,112.0,66.0,29.0,125.0,37.8,0.261,41,1\\n0,177.0,60.0,29.0,478.0,34.6,1.072,21,1\\n2,158.0,90.0,29.0,125.0,31.6,0.805,66,1\\n7,119.0,72.40518417462485,29.0,125.0,25.2,0.209,37,0\\n7,142.0,60.0,33.0,190.0,28.8,0.687,61,0\\n1,100.0,66.0,15.0,56.0,23.6,0.6659999999999999,26,0\\n1,87.0,78.0,27.0,32.0,34.6,0.10099999999999999,22,0\\n0,101.0,76.0,29.0,125.0,35.7,0.198,26,0\\n3,162.0,52.0,38.0,125.0,37.2,0.652,24,1\\n4,197.0,70.0,39.0,744.0,36.7,2.329,31,0\\n0,117.0,80.0,31.0,53.0,45.2,0.08900000000000001,24,0\\n4,142.0,86.0,29.0,125.0,44.0,0.645,22,1\\n6,134.0,80.0,37.0,370.0,46.2,0.23800000000000002,46,1\\n1,79.0,80.0,25.0,37.0,25.4,0.583,22,0\\n4,122.0,68.0,29.0,125.0,35.0,0.39399999999999996,29,0\\n3,74.0,68.0,28.0,45.0,29.7,0.293,23,0\\n4,171.0,72.0,29.0,125.0,43.6,0.479,26,1\\n7,181.0,84.0,21.0,192.0,35.9,0.586,51,1\\n0,179.0,90.0,27.0,125.0,44.1,0.6859999999999999,23,1\\n9,164.0,84.0,21.0,125.0,30.8,0.831,32,1\\n0,104.0,76.0,29.0,125.0,18.4,0.5820000000000001,27,0\\n1,91.0,64.0,24.0,125.0,29.2,0.192,21,0\\n4,91.0,70.0,32.0,88.0,33.1,0.446,22,0\\n3,139.0,54.0,29.0,125.0,25.6,0.402,22,1\\n6,119.0,50.0,22.0,176.0,27.1,1.318,33,1\\n2,146.0,76.0,35.0,194.0,38.2,0.32899999999999996,29,0\\n9,184.0,85.0,15.0,125.0,30.0,1.213,49,1\\n10,122.0,68.0,29.0,125.0,31.2,0.258,41,0\\n0,165.0,90.0,33.0,680.0,52.3,0.4270000000000001,23,0\\n9,124.0,70.0,33.0,402.0,35.4,0.282,34,0\\n1,111.0,86.0,19.0,125.0,30.1,0.14300000000000002,23,0\\n9,106.0,52.0,29.0,125.0,31.2,0.38,42,0\\n2,129.0,84.0,29.0,125.0,28.0,0.284,27,0\\n2,90.0,80.0,14.0,55.0,24.4,0.249,24,0\\n0,86.0,68.0,32.0,125.0,35.8,0.23800000000000002,25,0\\n12,92.0,62.0,7.0,258.0,27.6,0.9259999999999999,44,1\\n1,113.0,64.0,35.0,125.0,33.6,0.5429999999999999,21,1\\n3,111.0,56.0,39.0,125.0,30.1,0.557,30,0\\n2,114.0,68.0,22.0,125.0,28.7,0.092,25,0\\n1,193.0,50.0,16.0,375.0,25.9,0.655,24,0\\n11,155.0,76.0,28.0,150.0,33.3,1.3530000000000002,51,1\\n3,191.0,68.0,15.0,130.0,30.9,0.299,34,0\\n3,141.0,72.40518417462485,29.0,125.0,30.0,0.7609999999999999,27,1\\n4,95.0,70.0,32.0,125.0,32.1,0.612,24,0\\n3,142.0,80.0,15.0,125.0,32.4,0.2,63,0\\n4,123.0,62.0,29.0,125.0,32.0,0.226,35,1\\n5,96.0,74.0,18.0,67.0,33.6,0.997,43,0\\n0,138.0,72.40518417462485,29.0,125.0,36.3,0.9329999999999999,25,1\\n2,128.0,64.0,42.0,125.0,40.0,1.101,24,0\\n0,102.0,52.0,29.0,125.0,25.1,0.078,21,0\\n2,146.0,72.40518417462485,29.0,125.0,27.5,0.24,28,1\\n10,101.0,86.0,37.0,125.0,45.6,1.136,38,1\\n2,108.0,62.0,32.0,56.0,25.2,0.128,21,0\\n3,122.0,78.0,29.0,125.0,23.0,0.254,40,0\\n1,71.0,78.0,50.0,45.0,33.2,0.42200000000000004,21,0\\n13,106.0,70.0,29.0,125.0,34.2,0.251,52,0\\n2,100.0,70.0,52.0,57.0,40.5,0.677,25,0\\n7,106.0,60.0,24.0,125.0,26.5,0.29600000000000004,29,1\\n0,104.0,64.0,23.0,116.0,27.8,0.45399999999999996,23,0\\n5,114.0,74.0,29.0,125.0,24.9,0.7440000000000001,57,0\\n2,108.0,62.0,10.0,278.0,25.3,0.8809999999999999,22,0\\n0,146.0,70.0,29.0,125.0,37.9,0.33399999999999996,28,1\\n10,129.0,76.0,28.0,122.0,35.9,0.28,39,0\\n7,133.0,88.0,15.0,155.0,32.4,0.262,37,0\\n7,161.0,86.0,29.0,125.0,30.4,0.165,47,1\\n2,108.0,80.0,29.0,125.0,27.0,0.259,52,1\\n7,136.0,74.0,26.0,135.0,26.0,0.647,51,0\\n5,155.0,84.0,44.0,545.0,38.7,0.619,34,0\\n1,119.0,86.0,39.0,220.0,45.6,0.8079999999999999,29,1\\n4,96.0,56.0,17.0,49.0,20.8,0.34,26,0\\n5,108.0,72.0,43.0,75.0,36.1,0.263,33,0\\n0,78.0,88.0,29.0,40.0,36.9,0.434,21,0\\n0,107.0,62.0,30.0,74.0,36.6,0.757,25,1\\n2,128.0,78.0,37.0,182.0,43.3,1.224,31,1\\n1,128.0,48.0,45.0,194.0,40.5,0.613,24,1\\n0,161.0,50.0,29.0,125.0,21.9,0.254,65,0\\n6,151.0,62.0,31.0,120.0,35.5,0.6920000000000001,28,0\\n2,146.0,70.0,38.0,360.0,28.0,0.337,29,1\\n0,126.0,84.0,29.0,215.0,30.7,0.52,24,0\\n14,100.0,78.0,25.0,184.0,36.6,0.41200000000000003,46,1\\n8,112.0,72.0,29.0,125.0,23.6,0.84,58,0\\n0,167.0,72.40518417462485,29.0,125.0,32.3,0.8390000000000001,30,1\\n2,144.0,58.0,33.0,135.0,31.6,0.42200000000000004,25,1\\n5,77.0,82.0,41.0,42.0,35.8,0.156,35,0\\n5,115.0,98.0,29.0,125.0,52.9,0.209,28,1\\n3,150.0,76.0,29.0,125.0,21.0,0.207,37,0\\n2,120.0,76.0,37.0,105.0,39.7,0.215,29,0\\n10,161.0,68.0,23.0,132.0,25.5,0.326,47,1\\n0,137.0,68.0,14.0,148.0,24.8,0.14300000000000002,21,0\\n0,128.0,68.0,19.0,180.0,30.5,1.391,25,1\\n2,124.0,68.0,28.0,205.0,32.9,0.875,30,1\\n6,80.0,66.0,30.0,125.0,26.2,0.313,41,0\\n0,106.0,70.0,37.0,148.0,39.4,0.605,22,0\\n2,155.0,74.0,17.0,96.0,26.6,0.433,27,1\\n3,113.0,50.0,10.0,85.0,29.5,0.626,25,0\\n7,109.0,80.0,31.0,125.0,35.9,1.127,43,1\\n2,112.0,68.0,22.0,94.0,34.1,0.315,26,0\\n3,99.0,80.0,11.0,64.0,19.3,0.284,30,0\\n3,182.0,74.0,29.0,125.0,30.5,0.345,29,1\\n3,115.0,66.0,39.0,140.0,38.1,0.15,28,0\\n6,194.0,78.0,29.0,125.0,23.5,0.129,59,1\\n4,129.0,60.0,12.0,231.0,27.5,0.527,31,0\\n3,112.0,74.0,30.0,125.0,31.6,0.19699999999999998,25,1\\n0,124.0,70.0,20.0,125.0,27.4,0.254,36,1\\n13,152.0,90.0,33.0,29.0,26.8,0.731,43,1\\n2,112.0,75.0,32.0,125.0,35.7,0.14800000000000002,21,0\\n1,157.0,72.0,21.0,168.0,25.6,0.12300000000000001,24,0\\n1,122.0,64.0,32.0,156.0,35.1,0.6920000000000001,30,1\\n10,179.0,70.0,29.0,125.0,35.1,0.2,37,0\\n2,102.0,86.0,36.0,120.0,45.5,0.127,23,1\\n6,105.0,70.0,32.0,68.0,30.8,0.122,37,0\\n8,118.0,72.0,19.0,125.0,23.1,1.476,46,0\\n2,87.0,58.0,16.0,52.0,32.7,0.166,25,0\\n1,180.0,72.40518417462485,29.0,125.0,43.3,0.282,41,1\\n12,106.0,80.0,29.0,125.0,23.6,0.13699999999999998,44,0\\n1,95.0,60.0,18.0,58.0,23.9,0.26,22,0\\n0,165.0,76.0,43.0,255.0,47.9,0.259,26,0\\n0,117.0,72.40518417462485,29.0,125.0,33.8,0.932,44,0\\n5,115.0,76.0,29.0,125.0,31.2,0.34299999999999997,44,1\\n9,152.0,78.0,34.0,171.0,34.2,0.893,33,1\\n7,178.0,84.0,29.0,125.0,39.9,0.331,41,1\\n1,130.0,70.0,13.0,105.0,25.9,0.47200000000000003,22,0\\n1,95.0,74.0,21.0,73.0,25.9,0.6729999999999999,36,0\\n1,121.6867627785059,68.0,35.0,125.0,32.0,0.389,22,0\\n5,122.0,86.0,29.0,125.0,34.7,0.29,33,0\\n8,95.0,72.0,29.0,125.0,36.8,0.485,57,0\\n8,126.0,88.0,36.0,108.0,38.5,0.349,49,0\\n1,139.0,46.0,19.0,83.0,28.7,0.654,22,0\\n3,116.0,72.40518417462485,29.0,125.0,23.5,0.187,23,0\\n3,99.0,62.0,19.0,74.0,21.8,0.27899999999999997,26,0\\n5,121.6867627785059,80.0,32.0,125.0,41.0,0.34600000000000003,37,1\\n4,92.0,80.0,29.0,125.0,42.2,0.237,29,0\\n4,137.0,84.0,29.0,125.0,31.2,0.252,30,0\\n3,61.0,82.0,28.0,125.0,34.4,0.243,46,0\\n1,90.0,62.0,12.0,43.0,27.2,0.58,24,0\\n3,90.0,78.0,29.0,125.0,42.7,0.5589999999999999,21,0\\n9,165.0,88.0,29.0,125.0,30.4,0.302,49,1\\n1,125.0,50.0,40.0,167.0,33.3,0.9620000000000001,28,1\\n13,129.0,72.40518417462485,30.0,125.0,39.9,0.569,44,1\\n12,88.0,74.0,40.0,54.0,35.3,0.37799999999999995,48,0\\n1,196.0,76.0,36.0,249.0,36.5,0.875,29,1\\n5,189.0,64.0,33.0,325.0,31.2,0.583,29,1\\n5,158.0,70.0,29.0,125.0,29.8,0.207,63,0\\n5,103.0,108.0,37.0,125.0,39.2,0.305,65,0\\n4,146.0,78.0,29.0,125.0,38.5,0.52,67,1\\n4,147.0,74.0,25.0,293.0,34.9,0.385,30,0\\n5,99.0,54.0,28.0,83.0,34.0,0.499,30,0\\n6,124.0,72.0,29.0,125.0,27.6,0.368,29,1\\n0,101.0,64.0,17.0,125.0,21.0,0.252,21,0\\n3,81.0,86.0,16.0,66.0,27.5,0.306,22,0\\n1,133.0,102.0,28.0,140.0,32.8,0.23399999999999999,45,1\\n3,173.0,82.0,48.0,465.0,38.4,2.137,25,1\\n0,118.0,64.0,23.0,89.0,32.3,1.7309999999999999,21,0\\n0,84.0,64.0,22.0,66.0,35.8,0.545,21,0\\n2,105.0,58.0,40.0,94.0,34.9,0.225,25,0\\n2,122.0,52.0,43.0,158.0,36.2,0.816,28,0\\n12,140.0,82.0,43.0,325.0,39.2,0.528,58,1\\n0,98.0,82.0,15.0,84.0,25.2,0.299,22,0\\n1,87.0,60.0,37.0,75.0,37.2,0.509,22,0\\n4,156.0,75.0,29.0,125.0,48.3,0.23800000000000002,32,1\\n0,93.0,100.0,39.0,72.0,43.4,1.021,35,0\\n1,107.0,72.0,30.0,82.0,30.8,0.821,24,0\\n0,105.0,68.0,22.0,125.0,20.0,0.23600000000000002,22,0\\n1,109.0,60.0,8.0,182.0,25.4,0.9470000000000001,21,0\\n1,90.0,62.0,18.0,59.0,25.1,1.268,25,0\\n1,125.0,70.0,24.0,110.0,24.3,0.221,25,0\\n1,119.0,54.0,13.0,50.0,22.3,0.205,24,0\\n5,116.0,74.0,29.0,125.0,32.3,0.66,35,1\\n8,105.0,100.0,36.0,125.0,43.3,0.239,45,1\\n5,144.0,82.0,26.0,285.0,32.0,0.452,58,1\\n3,100.0,68.0,23.0,81.0,31.6,0.9490000000000001,28,0\\n1,100.0,66.0,29.0,196.0,32.0,0.444,42,0\\n5,166.0,76.0,29.0,125.0,45.7,0.34,27,1\\n1,131.0,64.0,14.0,415.0,23.7,0.389,21,0\\n4,116.0,72.0,12.0,87.0,22.1,0.46299999999999997,37,0\\n4,158.0,78.0,29.0,125.0,32.9,0.8029999999999999,31,1\\n2,127.0,58.0,24.0,275.0,27.7,1.6,25,0\\n3,96.0,56.0,34.0,115.0,24.7,0.9440000000000001,39,0\\n0,131.0,66.0,40.0,125.0,34.3,0.196,22,1\\n3,82.0,70.0,29.0,125.0,21.1,0.389,25,0\\n3,193.0,70.0,31.0,125.0,34.9,0.24100000000000002,25,1\\n4,95.0,64.0,29.0,125.0,32.0,0.161,31,1\\n6,137.0,61.0,29.0,125.0,24.2,0.151,55,0\\n5,136.0,84.0,41.0,88.0,35.0,0.28600000000000003,35,1\\n9,72.0,78.0,25.0,125.0,31.6,0.28,38,0\\n5,168.0,64.0,29.0,125.0,32.9,0.135,41,1\\n2,123.0,48.0,32.0,165.0,42.1,0.52,26,0\\n4,115.0,72.0,29.0,125.0,28.9,0.376,46,1\\n0,101.0,62.0,29.0,125.0,21.9,0.336,25,0\\n8,197.0,74.0,29.0,125.0,25.9,1.1909999999999998,39,1\\n1,172.0,68.0,49.0,579.0,42.4,0.7020000000000001,28,1\\n6,102.0,90.0,39.0,125.0,35.7,0.674,28,0\\n1,112.0,72.0,30.0,176.0,34.4,0.528,25,0\\n1,143.0,84.0,23.0,310.0,42.4,1.0759999999999998,22,0\\n1,143.0,74.0,22.0,61.0,26.2,0.256,21,0\\n0,138.0,60.0,35.0,167.0,34.6,0.534,21,1\\n3,173.0,84.0,33.0,474.0,35.7,0.258,22,1\\n1,97.0,68.0,21.0,125.0,27.2,1.095,22,0\\n4,144.0,82.0,32.0,125.0,38.5,0.5539999999999999,37,1\\n1,83.0,68.0,29.0,125.0,18.2,0.624,27,0\\n3,129.0,64.0,29.0,115.0,26.4,0.21899999999999997,28,1\\n1,119.0,88.0,41.0,170.0,45.3,0.507,26,0\\n2,94.0,68.0,18.0,76.0,26.0,0.561,21,0\\n0,102.0,64.0,46.0,78.0,40.6,0.496,21,0\\n2,115.0,64.0,22.0,125.0,30.8,0.42100000000000004,21,0\\n8,151.0,78.0,32.0,210.0,42.9,0.516,36,1\\n4,184.0,78.0,39.0,277.0,37.0,0.264,31,1\\n0,94.0,72.40518417462485,29.0,125.0,32.3,0.256,25,0\\n1,181.0,64.0,30.0,180.0,34.1,0.32799999999999996,38,1\\n0,135.0,94.0,46.0,145.0,40.6,0.284,26,0\\n1,95.0,82.0,25.0,180.0,35.0,0.233,43,1\\n2,99.0,72.40518417462485,29.0,125.0,22.2,0.10800000000000001,23,0\\n3,89.0,74.0,16.0,85.0,30.4,0.551,38,0\\n1,80.0,74.0,11.0,60.0,30.0,0.527,22,0\\n2,139.0,75.0,29.0,125.0,25.6,0.16699999999999998,29,0\\n1,90.0,68.0,8.0,125.0,24.5,1.138,36,0\\n0,141.0,72.40518417462485,29.0,125.0,42.4,0.205,29,1\\n12,140.0,85.0,33.0,125.0,37.4,0.244,41,0\\n5,147.0,75.0,29.0,125.0,29.9,0.434,28,0\\n1,97.0,70.0,15.0,125.0,18.2,0.147,21,0\\n6,107.0,88.0,29.0,125.0,36.8,0.727,31,0\\n0,189.0,104.0,25.0,125.0,34.3,0.435,41,1\\n2,83.0,66.0,23.0,50.0,32.2,0.4970000000000001,22,0\\n4,117.0,64.0,27.0,120.0,33.2,0.23,24,0\\n8,108.0,70.0,29.0,125.0,30.5,0.955,33,1\\n4,117.0,62.0,12.0,125.0,29.7,0.38,30,1\\n0,180.0,78.0,63.0,14.0,59.4,2.42,25,1\\n1,100.0,72.0,12.0,70.0,25.3,0.6579999999999999,28,0\\n0,95.0,80.0,45.0,92.0,36.5,0.33,26,0\\n0,104.0,64.0,37.0,64.0,33.6,0.51,22,1\\n0,120.0,74.0,18.0,63.0,30.5,0.285,26,0\\n1,82.0,64.0,13.0,95.0,21.2,0.415,23,0\\n2,134.0,70.0,29.0,125.0,28.9,0.542,23,1\\n0,91.0,68.0,32.0,210.0,39.9,0.381,25,0\\n2,119.0,72.40518417462485,29.0,125.0,19.6,0.8320000000000001,72,0\\n2,100.0,54.0,28.0,105.0,37.8,0.498,24,0\\n14,175.0,62.0,30.0,125.0,33.6,0.212,38,1\\n1,135.0,54.0,29.0,125.0,26.7,0.687,62,0\\n5,86.0,68.0,28.0,71.0,30.2,0.364,24,0\\n10,148.0,84.0,48.0,237.0,37.6,1.001,51,1\\n9,134.0,74.0,33.0,60.0,25.9,0.46,81,0\\n9,120.0,72.0,22.0,56.0,20.8,0.733,48,0\\n1,71.0,62.0,29.0,125.0,21.8,0.41600000000000004,26,0\\n8,74.0,70.0,40.0,49.0,35.3,0.705,39,0\\n5,88.0,78.0,30.0,125.0,27.6,0.258,37,0\\n10,115.0,98.0,29.0,125.0,24.0,1.022,34,0\\n0,124.0,56.0,13.0,105.0,21.8,0.452,21,0\\n0,74.0,52.0,10.0,36.0,27.8,0.26899999999999996,22,0\\n0,97.0,64.0,36.0,100.0,36.8,0.6,25,0\\n8,120.0,72.40518417462485,29.0,125.0,30.0,0.183,38,1\\n6,154.0,78.0,41.0,140.0,46.1,0.5710000000000001,27,0\\n1,144.0,82.0,40.0,125.0,41.3,0.607,28,0\\n0,137.0,70.0,38.0,125.0,33.2,0.17,22,0\\n0,119.0,66.0,27.0,125.0,38.8,0.259,22,0\\n7,136.0,90.0,29.0,125.0,29.9,0.21,50,0\\n4,114.0,64.0,29.0,125.0,28.9,0.126,24,0\\n0,137.0,84.0,27.0,125.0,27.3,0.231,59,0\\n2,105.0,80.0,45.0,191.0,33.7,0.711,29,1\\n7,114.0,76.0,17.0,110.0,23.8,0.466,31,0\\n8,126.0,74.0,38.0,75.0,25.9,0.162,39,0\\n4,132.0,86.0,31.0,125.0,28.0,0.419,63,0\\n3,158.0,70.0,30.0,328.0,35.5,0.344,35,1\\n0,123.0,88.0,37.0,125.0,35.2,0.19699999999999998,29,0\\n4,85.0,58.0,22.0,49.0,27.8,0.306,28,0\\n0,84.0,82.0,31.0,125.0,38.2,0.233,23,0\\n0,145.0,72.40518417462485,29.0,125.0,44.2,0.63,31,1\\n0,135.0,68.0,42.0,250.0,42.3,0.365,24,1\\n1,139.0,62.0,41.0,480.0,40.7,0.536,21,0\\n0,173.0,78.0,32.0,265.0,46.5,1.159,58,0\\n4,99.0,72.0,17.0,125.0,25.6,0.294,28,0\\n8,194.0,80.0,29.0,125.0,26.1,0.551,67,0\\n2,83.0,65.0,28.0,66.0,36.8,0.629,24,0\\n2,89.0,90.0,30.0,125.0,33.5,0.292,42,0\\n4,99.0,68.0,38.0,125.0,32.8,0.145,33,0\\n4,125.0,70.0,18.0,122.0,28.9,1.1440000000000001,45,1\\n3,80.0,72.40518417462485,29.0,125.0,32.3,0.174,22,0\\n6,166.0,74.0,29.0,125.0,26.6,0.304,66,0\\n5,110.0,68.0,29.0,125.0,26.0,0.292,30,0\\n2,81.0,72.0,15.0,76.0,30.1,0.547,25,0\\n7,195.0,70.0,33.0,145.0,25.1,0.163,55,1\\n6,154.0,74.0,32.0,193.0,29.3,0.8390000000000001,39,0\\n2,117.0,90.0,19.0,71.0,25.2,0.313,21,0\\n3,84.0,72.0,32.0,125.0,37.2,0.267,28,0\\n6,121.6867627785059,68.0,41.0,125.0,39.0,0.727,41,1\\n7,94.0,64.0,25.0,79.0,33.3,0.738,41,0\\n3,96.0,78.0,39.0,125.0,37.3,0.23800000000000002,40,0\\n10,75.0,82.0,29.0,125.0,33.3,0.263,38,0\\n0,180.0,90.0,26.0,90.0,36.5,0.314,35,1\\n1,130.0,60.0,23.0,170.0,28.6,0.6920000000000001,21,0\\n2,84.0,50.0,23.0,76.0,30.4,0.968,21,0\\n8,120.0,78.0,29.0,125.0,25.0,0.409,64,0\\n12,84.0,72.0,31.0,125.0,29.7,0.297,46,1\\n0,139.0,62.0,17.0,210.0,22.1,0.207,21,0\\n9,91.0,68.0,29.0,125.0,24.2,0.2,58,0\\n2,91.0,62.0,29.0,125.0,27.3,0.525,22,0\\n3,99.0,54.0,19.0,86.0,25.6,0.154,24,0\\n3,163.0,70.0,18.0,105.0,31.6,0.268,28,1\\n9,145.0,88.0,34.0,165.0,30.3,0.7709999999999999,53,1\\n7,125.0,86.0,29.0,125.0,37.6,0.304,51,0\\n13,76.0,60.0,29.0,125.0,32.8,0.18,41,0\\n6,129.0,90.0,7.0,326.0,19.6,0.5820000000000001,60,0\\n2,68.0,70.0,32.0,66.0,25.0,0.187,25,0\\n3,124.0,80.0,33.0,130.0,33.2,0.305,26,0\\n6,114.0,72.40518417462485,29.0,125.0,32.3,0.18899999999999997,26,0\\n9,130.0,70.0,29.0,125.0,34.2,0.652,45,1\\n3,125.0,58.0,29.0,125.0,31.6,0.151,24,0\\n3,87.0,60.0,18.0,125.0,21.8,0.444,21,0\\n1,97.0,64.0,19.0,82.0,18.2,0.299,21,0\\n3,116.0,74.0,15.0,105.0,26.3,0.107,24,0\\n0,117.0,66.0,31.0,188.0,30.8,0.493,22,0\\n0,111.0,65.0,29.0,125.0,24.6,0.66,31,0\\n2,122.0,60.0,18.0,106.0,29.8,0.7170000000000001,22,0\\n0,107.0,76.0,29.0,125.0,45.3,0.6859999999999999,24,0\\n1,86.0,66.0,52.0,65.0,41.3,0.917,29,0\\n6,91.0,72.40518417462485,29.0,125.0,29.8,0.501,31,0\\n1,77.0,56.0,30.0,56.0,33.3,1.251,24,0\\n4,132.0,72.40518417462485,29.0,125.0,32.9,0.302,23,1\\n0,105.0,90.0,29.0,125.0,29.6,0.19699999999999998,46,0\\n0,57.0,60.0,29.0,125.0,21.7,0.735,67,0\\n0,127.0,80.0,37.0,210.0,36.3,0.804,23,0\\n3,129.0,92.0,49.0,155.0,36.4,0.968,32,1\\n8,100.0,74.0,40.0,215.0,39.4,0.6609999999999999,43,1\\n3,128.0,72.0,25.0,190.0,32.4,0.5489999999999999,27,1\\n10,90.0,85.0,32.0,125.0,34.9,0.825,56,1\\n4,84.0,90.0,23.0,56.0,39.5,0.159,25,0\\n1,88.0,78.0,29.0,76.0,32.0,0.365,29,0\\n8,186.0,90.0,35.0,225.0,34.5,0.423,37,1\\n5,187.0,76.0,27.0,207.0,43.6,1.034,53,1\\n4,131.0,68.0,21.0,166.0,33.1,0.16,28,0\\n1,164.0,82.0,43.0,67.0,32.8,0.341,50,0\\n4,189.0,110.0,31.0,125.0,28.5,0.68,37,0\\n1,116.0,70.0,28.0,125.0,27.4,0.204,21,0\\n3,84.0,68.0,30.0,106.0,31.9,0.591,25,0\\n6,114.0,88.0,29.0,125.0,27.8,0.247,66,0\\n1,88.0,62.0,24.0,44.0,29.9,0.42200000000000004,23,0\\n1,84.0,64.0,23.0,115.0,36.9,0.47100000000000003,28,0\\n7,124.0,70.0,33.0,215.0,25.5,0.161,37,0\\n1,97.0,70.0,40.0,125.0,38.1,0.218,30,0\\n8,110.0,76.0,29.0,125.0,27.8,0.237,58,0\\n11,103.0,68.0,40.0,125.0,46.2,0.126,42,0\\n11,85.0,74.0,29.0,125.0,30.1,0.3,35,0\\n6,125.0,76.0,29.0,125.0,33.8,0.121,54,1\\n0,198.0,66.0,32.0,274.0,41.3,0.502,28,1\\n1,87.0,68.0,34.0,77.0,37.6,0.401,24,0\\n6,99.0,60.0,19.0,54.0,26.9,0.4970000000000001,32,0\\n0,91.0,80.0,29.0,125.0,32.4,0.601,27,0\\n2,95.0,54.0,14.0,88.0,26.1,0.748,22,0\\n1,99.0,72.0,30.0,18.0,38.6,0.41200000000000003,21,0\\n6,92.0,62.0,32.0,126.0,32.0,0.085,46,0\\n4,154.0,72.0,29.0,126.0,31.3,0.33799999999999997,37,0\\n0,121.0,66.0,30.0,165.0,34.3,0.203,33,1\\n3,78.0,70.0,29.0,125.0,32.5,0.27,39,0\\n2,130.0,96.0,29.0,125.0,22.6,0.268,21,0\\n3,111.0,58.0,31.0,44.0,29.5,0.43,22,0\\n2,98.0,60.0,17.0,120.0,34.7,0.198,22,0\\n1,143.0,86.0,30.0,330.0,30.1,0.892,23,0\\n1,119.0,44.0,47.0,63.0,35.5,0.28,25,0\\n6,108.0,44.0,20.0,130.0,24.0,0.813,35,0\\n2,118.0,80.0,29.0,125.0,42.9,0.693,21,1\\n10,133.0,68.0,29.0,125.0,27.0,0.245,36,0\\n2,197.0,70.0,99.0,125.0,34.7,0.575,62,1\\n0,151.0,90.0,46.0,125.0,42.1,0.371,21,1\\n6,109.0,60.0,27.0,125.0,25.0,0.20600000000000002,27,0\\n12,121.0,78.0,17.0,125.0,26.5,0.259,62,0\\n8,100.0,76.0,29.0,125.0,38.7,0.19,42,0\\n8,124.0,76.0,24.0,600.0,28.7,0.687,52,1\\n1,93.0,56.0,11.0,125.0,22.5,0.41700000000000004,22,0\\n8,143.0,66.0,29.0,125.0,34.9,0.129,41,1\\n6,103.0,66.0,29.0,125.0,24.3,0.249,29,0\\n3,176.0,86.0,27.0,156.0,33.3,1.1540000000000001,52,1\\n0,73.0,72.40518417462485,29.0,125.0,21.1,0.342,25,0\\n11,111.0,84.0,40.0,125.0,46.8,0.925,45,1\\n2,112.0,78.0,50.0,140.0,39.4,0.175,24,0\\n3,132.0,80.0,29.0,125.0,34.4,0.402,44,1\\n2,82.0,52.0,22.0,115.0,28.5,1.699,25,0\\n6,123.0,72.0,45.0,230.0,33.6,0.733,34,0\\n0,188.0,82.0,14.0,185.0,32.0,0.682,22,1\\n0,67.0,76.0,29.0,125.0,45.3,0.19399999999999998,46,0\\n1,89.0,24.0,19.0,25.0,27.8,0.5589999999999999,21,0\\n1,173.0,74.0,29.0,125.0,36.8,0.08800000000000001,38,1\\n1,109.0,38.0,18.0,120.0,23.1,0.40700000000000003,26,0\\n1,108.0,88.0,19.0,125.0,27.1,0.4,24,0\\n6,96.0,72.40518417462485,29.0,125.0,23.7,0.19,28,0\\n1,124.0,74.0,36.0,125.0,27.8,0.1,30,0\\n7,150.0,78.0,29.0,126.0,35.2,0.6920000000000001,54,1\\n4,183.0,72.40518417462485,29.0,125.0,28.4,0.212,36,1\\n1,124.0,60.0,32.0,125.0,35.8,0.514,21,0\\n1,181.0,78.0,42.0,293.0,40.0,1.258,22,1\\n1,92.0,62.0,25.0,41.0,19.5,0.48200000000000004,25,0\\n0,152.0,82.0,39.0,272.0,41.5,0.27,27,0\\n1,111.0,62.0,13.0,182.0,24.0,0.138,23,0\\n3,106.0,54.0,21.0,158.0,30.9,0.292,24,0\\n3,174.0,58.0,22.0,194.0,32.9,0.593,36,1\\n7,168.0,88.0,42.0,321.0,38.2,0.787,40,1\\n6,105.0,80.0,28.0,125.0,32.5,0.878,26,0\\n11,138.0,74.0,26.0,144.0,36.1,0.557,50,1\\n3,106.0,72.0,29.0,125.0,25.8,0.207,27,0\\n6,117.0,96.0,29.0,125.0,28.7,0.157,30,0\\n2,68.0,62.0,13.0,15.0,20.1,0.257,23,0\\n9,112.0,82.0,24.0,125.0,28.2,1.2819999999999998,50,1\\n0,119.0,72.40518417462485,29.0,125.0,32.4,0.141,24,1\\n2,112.0,86.0,42.0,160.0,38.4,0.24600000000000002,28,0\\n2,92.0,76.0,20.0,125.0,24.2,1.6980000000000002,28,0\\n6,183.0,94.0,29.0,125.0,40.8,1.4609999999999999,45,0\\n0,94.0,70.0,27.0,115.0,43.5,0.34700000000000003,21,0\\n2,108.0,64.0,29.0,125.0,30.8,0.158,21,0\\n4,90.0,88.0,47.0,54.0,37.7,0.36200000000000004,29,0\\n0,125.0,68.0,29.0,125.0,24.7,0.20600000000000002,21,0\\n0,132.0,78.0,29.0,125.0,32.4,0.39299999999999996,21,0\\n5,128.0,80.0,29.0,125.0,34.6,0.14400000000000002,45,0\\n4,94.0,65.0,22.0,125.0,24.7,0.14800000000000002,21,0\\n7,114.0,64.0,29.0,125.0,27.4,0.732,34,1\\n0,102.0,78.0,40.0,90.0,34.5,0.23800000000000002,24,0\\n2,111.0,60.0,29.0,125.0,26.2,0.34299999999999997,23,0\\n1,128.0,82.0,17.0,183.0,27.5,0.115,22,0\\n10,92.0,62.0,29.0,125.0,25.9,0.16699999999999998,31,0\\n13,104.0,72.0,29.0,125.0,31.2,0.465,38,1\\n5,104.0,74.0,29.0,125.0,28.8,0.153,48,0\\n2,94.0,76.0,18.0,66.0,31.6,0.649,23,0\\n7,97.0,76.0,32.0,91.0,40.9,0.871,32,1\\n1,100.0,74.0,12.0,46.0,19.5,0.149,28,0\\n0,102.0,86.0,17.0,105.0,29.3,0.695,27,0\\n4,128.0,70.0,29.0,125.0,34.3,0.303,24,0\\n6,147.0,80.0,29.0,125.0,29.5,0.17800000000000002,50,1\\n4,90.0,72.40518417462485,29.0,125.0,28.0,0.61,31,0\\n3,103.0,72.0,30.0,152.0,27.6,0.73,27,0\\n2,157.0,74.0,35.0,440.0,39.4,0.134,30,0\\n1,167.0,74.0,17.0,144.0,23.4,0.447,33,1\\n0,179.0,50.0,36.0,159.0,37.8,0.455,22,1\\n11,136.0,84.0,35.0,130.0,28.3,0.26,42,1\\n0,107.0,60.0,25.0,125.0,26.4,0.133,23,0\\n1,91.0,54.0,25.0,100.0,25.2,0.23399999999999999,23,0\\n1,117.0,60.0,23.0,106.0,33.8,0.466,27,0\\n5,123.0,74.0,40.0,77.0,34.1,0.26899999999999996,28,0\\n2,120.0,54.0,29.0,125.0,26.8,0.455,27,0\\n1,106.0,70.0,28.0,135.0,34.2,0.142,22,0\\n2,155.0,52.0,27.0,540.0,38.7,0.24,25,1\\n2,101.0,58.0,35.0,90.0,21.8,0.155,22,0\\n1,120.0,80.0,48.0,200.0,38.9,1.162,41,0\\n11,127.0,106.0,29.0,125.0,39.0,0.19,51,0\\n3,80.0,82.0,31.0,70.0,34.2,1.2919999999999998,27,1\\n10,162.0,84.0,29.0,125.0,27.7,0.182,54,0\\n1,199.0,76.0,43.0,125.0,42.9,1.3940000000000001,22,1\\n8,167.0,106.0,46.0,231.0,37.6,0.165,43,1\\n9,145.0,80.0,46.0,130.0,37.9,0.637,40,1\\n6,115.0,60.0,39.0,125.0,33.7,0.245,40,1\\n1,112.0,80.0,45.0,132.0,34.8,0.217,24,0\\n4,145.0,82.0,18.0,125.0,32.5,0.235,70,1\\n10,111.0,70.0,27.0,125.0,27.5,0.141,40,1\\n6,98.0,58.0,33.0,190.0,34.0,0.43,43,0\\n9,154.0,78.0,30.0,100.0,30.9,0.16399999999999998,45,0\\n6,165.0,68.0,26.0,168.0,33.6,0.631,49,0\\n1,99.0,58.0,10.0,125.0,25.4,0.551,21,0\\n10,68.0,106.0,23.0,49.0,35.5,0.285,47,0\\n3,123.0,100.0,35.0,240.0,57.3,0.88,22,0\\n8,91.0,82.0,29.0,125.0,35.6,0.5870000000000001,68,0\\n6,195.0,70.0,29.0,125.0,30.9,0.32799999999999996,31,1\\n9,156.0,86.0,29.0,125.0,24.8,0.23,53,1\\n0,93.0,60.0,29.0,125.0,35.3,0.263,25,0\\n3,121.0,52.0,29.0,125.0,36.0,0.127,25,1\\n2,101.0,58.0,17.0,265.0,24.2,0.614,23,0\\n2,56.0,56.0,28.0,45.0,24.2,0.332,22,0\\n0,162.0,76.0,36.0,125.0,49.6,0.364,26,1\\n0,95.0,64.0,39.0,105.0,44.6,0.366,22,0\\n4,125.0,80.0,29.0,125.0,32.3,0.536,27,1\\n5,136.0,82.0,29.0,125.0,32.3,0.64,69,0\\n2,129.0,74.0,26.0,205.0,33.2,0.591,25,0\\n3,130.0,64.0,29.0,125.0,23.1,0.314,22,0\\n1,107.0,50.0,19.0,125.0,28.3,0.18100000000000002,29,0\\n1,140.0,74.0,26.0,180.0,24.1,0.828,23,0\\n1,144.0,82.0,46.0,180.0,46.1,0.335,46,1\\n8,107.0,80.0,29.0,125.0,24.6,0.856,34,0\\n13,158.0,114.0,29.0,125.0,42.3,0.257,44,1\\n2,121.0,70.0,32.0,95.0,39.1,0.8859999999999999,23,0\\n7,129.0,68.0,49.0,125.0,38.5,0.439,43,1\\n2,90.0,60.0,29.0,125.0,23.5,0.191,25,0\\n7,142.0,90.0,24.0,480.0,30.4,0.128,43,1\\n3,169.0,74.0,19.0,125.0,29.9,0.268,31,1\\n0,99.0,72.40518417462485,29.0,125.0,25.0,0.253,22,0\\n4,127.0,88.0,11.0,155.0,34.5,0.598,28,0\\n4,118.0,70.0,29.0,125.0,44.5,0.904,26,0\\n2,122.0,76.0,27.0,200.0,35.9,0.483,26,0\\n6,125.0,78.0,31.0,125.0,27.6,0.565,49,1\\n1,168.0,88.0,29.0,125.0,35.0,0.905,52,1\\n2,129.0,72.40518417462485,29.0,125.0,38.5,0.304,41,0\\n4,110.0,76.0,20.0,100.0,28.4,0.11800000000000001,27,0\\n6,80.0,80.0,36.0,125.0,39.8,0.177,28,0\\n10,115.0,72.40518417462485,29.0,125.0,32.3,0.261,30,1\\n2,127.0,46.0,21.0,335.0,34.4,0.17600000000000002,22,0\\n9,164.0,78.0,29.0,125.0,32.8,0.14800000000000002,45,1\\n2,93.0,64.0,32.0,160.0,38.0,0.674,23,1\\n3,158.0,64.0,13.0,387.0,31.2,0.295,24,0\\n5,126.0,78.0,27.0,22.0,29.6,0.439,40,0\\n10,129.0,62.0,36.0,125.0,41.2,0.441,38,1\\n0,134.0,58.0,20.0,291.0,26.4,0.35200000000000004,21,0\\n3,102.0,74.0,29.0,125.0,29.5,0.121,32,0\\n7,187.0,50.0,33.0,392.0,33.9,0.826,34,1\\n3,173.0,78.0,39.0,185.0,33.8,0.97,31,1\\n10,94.0,72.0,18.0,125.0,23.1,0.595,56,0\\n1,108.0,60.0,46.0,178.0,35.5,0.415,24,0\\n5,97.0,76.0,27.0,125.0,35.6,0.37799999999999995,52,1\\n4,83.0,86.0,19.0,125.0,29.3,0.317,34,0\\n1,114.0,66.0,36.0,200.0,38.1,0.289,21,0\\n1,149.0,68.0,29.0,127.0,29.3,0.349,42,1\\n5,117.0,86.0,30.0,105.0,39.1,0.251,42,0\\n1,111.0,94.0,29.0,125.0,32.8,0.265,45,0\\n4,112.0,78.0,40.0,125.0,39.4,0.23600000000000002,38,0\\n1,116.0,78.0,29.0,180.0,36.1,0.496,25,0\\n0,141.0,84.0,26.0,125.0,32.4,0.433,22,0\\n2,175.0,88.0,29.0,125.0,22.9,0.326,22,0\\n2,92.0,52.0,29.0,125.0,30.1,0.141,22,0\\n3,130.0,78.0,23.0,79.0,28.4,0.32299999999999995,34,1\\n8,120.0,86.0,29.0,125.0,28.4,0.259,22,1\\n2,174.0,88.0,37.0,120.0,44.5,0.6459999999999999,24,1\\n2,106.0,56.0,27.0,165.0,29.0,0.426,22,0\\n2,105.0,75.0,29.0,125.0,23.3,0.56,53,0\\n4,95.0,60.0,32.0,125.0,35.4,0.284,28,0\\n0,126.0,86.0,27.0,120.0,27.4,0.515,21,0\\n8,65.0,72.0,23.0,125.0,32.0,0.6,42,0\\n2,99.0,60.0,17.0,160.0,36.6,0.45299999999999996,21,0\\n1,102.0,74.0,29.0,125.0,39.5,0.293,42,1\\n11,120.0,80.0,37.0,150.0,42.3,0.785,48,1\\n3,102.0,44.0,20.0,94.0,30.8,0.4,26,0\\n1,109.0,58.0,18.0,116.0,28.5,0.21899999999999997,22,0\\n9,140.0,94.0,29.0,125.0,32.7,0.7340000000000001,45,1\\n13,153.0,88.0,37.0,140.0,40.6,1.1740000000000002,39,0\\n12,100.0,84.0,33.0,105.0,30.0,0.488,46,0\\n1,147.0,94.0,41.0,125.0,49.3,0.358,27,1\\n1,81.0,74.0,41.0,57.0,46.3,1.0959999999999999,32,0\\n3,187.0,70.0,22.0,200.0,36.4,0.408,36,1\\n6,162.0,62.0,29.0,125.0,24.3,0.17800000000000002,50,1\\n4,136.0,70.0,29.0,125.0,31.2,1.182,22,1\\n1,121.0,78.0,39.0,74.0,39.0,0.261,28,0\\n3,108.0,62.0,24.0,125.0,26.0,0.223,25,0\\n0,181.0,88.0,44.0,510.0,43.3,0.222,26,1\\n8,154.0,78.0,32.0,125.0,32.4,0.44299999999999995,45,1\\n1,128.0,88.0,39.0,110.0,36.5,1.057,37,1\\n7,137.0,90.0,41.0,125.0,32.0,0.391,39,0\\n0,123.0,72.0,29.0,125.0,36.3,0.258,52,1\\n1,106.0,76.0,29.0,125.0,37.5,0.19699999999999998,26,0\\n6,190.0,92.0,29.0,125.0,35.5,0.278,66,1\\n2,88.0,58.0,26.0,16.0,28.4,0.7659999999999999,22,0\\n9,170.0,74.0,31.0,125.0,44.0,0.40299999999999997,43,1\\n9,89.0,62.0,29.0,125.0,22.5,0.142,33,0\\n10,101.0,76.0,48.0,180.0,32.9,0.171,63,0\\n2,122.0,70.0,27.0,125.0,36.8,0.34,27,0\\n5,121.0,72.0,23.0,112.0,26.2,0.245,30,0\\n1,126.0,60.0,29.0,125.0,30.1,0.349,47,1\\n1,93.0,70.0,31.0,125.0,30.4,0.315,23,0\\n'}"
            ]
          },
          "metadata": {},
          "execution_count": 86
        }
      ]
    },
    {
      "cell_type": "markdown",
      "source": [
        "Upload widget is only available when the cell has been executed in the current browser session. Please rerun this cell to enable.\n",
        "Saving preprocessed_diabetes_data.csv to preprocessed_diabetes_data.csv"
      ],
      "metadata": {
        "id": "yclOjpsxuK3_"
      }
    },
    {
      "cell_type": "code",
      "source": [
        "import pandas as pd\n",
        "df = pd.read_csv(\"/content/preprocessed_diabetes_data.csv\")\n",
        "df"
      ],
      "metadata": {
        "id": "fT-Q12uEuTj8",
        "outputId": "181bc991-641a-4f41-95b4-5b6752f81d01",
        "colab": {
          "base_uri": "https://localhost:8080/",
          "height": 423
        }
      },
      "execution_count": 73,
      "outputs": [
        {
          "output_type": "execute_result",
          "data": {
            "text/plain": [
              "     Pregnancies  Glucose  BloodPressure  SkinThickness  Insulin   BMI  \\\n",
              "0              6    148.0           72.0           35.0    125.0  33.6   \n",
              "1              1     85.0           66.0           29.0    125.0  26.6   \n",
              "2              8    183.0           64.0           29.0    125.0  23.3   \n",
              "3              1     89.0           66.0           23.0     94.0  28.1   \n",
              "4              0    137.0           40.0           35.0    168.0  43.1   \n",
              "..           ...      ...            ...            ...      ...   ...   \n",
              "763           10    101.0           76.0           48.0    180.0  32.9   \n",
              "764            2    122.0           70.0           27.0    125.0  36.8   \n",
              "765            5    121.0           72.0           23.0    112.0  26.2   \n",
              "766            1    126.0           60.0           29.0    125.0  30.1   \n",
              "767            1     93.0           70.0           31.0    125.0  30.4   \n",
              "\n",
              "     DiabetesPedigreeFunction  Age  Outcome  \n",
              "0                       0.627   50        1  \n",
              "1                       0.351   31        0  \n",
              "2                       0.672   32        1  \n",
              "3                       0.167   21        0  \n",
              "4                       2.288   33        1  \n",
              "..                        ...  ...      ...  \n",
              "763                     0.171   63        0  \n",
              "764                     0.340   27        0  \n",
              "765                     0.245   30        0  \n",
              "766                     0.349   47        1  \n",
              "767                     0.315   23        0  \n",
              "\n",
              "[768 rows x 9 columns]"
            ],
            "text/html": [
              "\n",
              "  <div id=\"df-500fdc07-73a9-4bfc-8739-f94affeea40d\" class=\"colab-df-container\">\n",
              "    <div>\n",
              "<style scoped>\n",
              "    .dataframe tbody tr th:only-of-type {\n",
              "        vertical-align: middle;\n",
              "    }\n",
              "\n",
              "    .dataframe tbody tr th {\n",
              "        vertical-align: top;\n",
              "    }\n",
              "\n",
              "    .dataframe thead th {\n",
              "        text-align: right;\n",
              "    }\n",
              "</style>\n",
              "<table border=\"1\" class=\"dataframe\">\n",
              "  <thead>\n",
              "    <tr style=\"text-align: right;\">\n",
              "      <th></th>\n",
              "      <th>Pregnancies</th>\n",
              "      <th>Glucose</th>\n",
              "      <th>BloodPressure</th>\n",
              "      <th>SkinThickness</th>\n",
              "      <th>Insulin</th>\n",
              "      <th>BMI</th>\n",
              "      <th>DiabetesPedigreeFunction</th>\n",
              "      <th>Age</th>\n",
              "      <th>Outcome</th>\n",
              "    </tr>\n",
              "  </thead>\n",
              "  <tbody>\n",
              "    <tr>\n",
              "      <th>0</th>\n",
              "      <td>6</td>\n",
              "      <td>148.0</td>\n",
              "      <td>72.0</td>\n",
              "      <td>35.0</td>\n",
              "      <td>125.0</td>\n",
              "      <td>33.6</td>\n",
              "      <td>0.627</td>\n",
              "      <td>50</td>\n",
              "      <td>1</td>\n",
              "    </tr>\n",
              "    <tr>\n",
              "      <th>1</th>\n",
              "      <td>1</td>\n",
              "      <td>85.0</td>\n",
              "      <td>66.0</td>\n",
              "      <td>29.0</td>\n",
              "      <td>125.0</td>\n",
              "      <td>26.6</td>\n",
              "      <td>0.351</td>\n",
              "      <td>31</td>\n",
              "      <td>0</td>\n",
              "    </tr>\n",
              "    <tr>\n",
              "      <th>2</th>\n",
              "      <td>8</td>\n",
              "      <td>183.0</td>\n",
              "      <td>64.0</td>\n",
              "      <td>29.0</td>\n",
              "      <td>125.0</td>\n",
              "      <td>23.3</td>\n",
              "      <td>0.672</td>\n",
              "      <td>32</td>\n",
              "      <td>1</td>\n",
              "    </tr>\n",
              "    <tr>\n",
              "      <th>3</th>\n",
              "      <td>1</td>\n",
              "      <td>89.0</td>\n",
              "      <td>66.0</td>\n",
              "      <td>23.0</td>\n",
              "      <td>94.0</td>\n",
              "      <td>28.1</td>\n",
              "      <td>0.167</td>\n",
              "      <td>21</td>\n",
              "      <td>0</td>\n",
              "    </tr>\n",
              "    <tr>\n",
              "      <th>4</th>\n",
              "      <td>0</td>\n",
              "      <td>137.0</td>\n",
              "      <td>40.0</td>\n",
              "      <td>35.0</td>\n",
              "      <td>168.0</td>\n",
              "      <td>43.1</td>\n",
              "      <td>2.288</td>\n",
              "      <td>33</td>\n",
              "      <td>1</td>\n",
              "    </tr>\n",
              "    <tr>\n",
              "      <th>...</th>\n",
              "      <td>...</td>\n",
              "      <td>...</td>\n",
              "      <td>...</td>\n",
              "      <td>...</td>\n",
              "      <td>...</td>\n",
              "      <td>...</td>\n",
              "      <td>...</td>\n",
              "      <td>...</td>\n",
              "      <td>...</td>\n",
              "    </tr>\n",
              "    <tr>\n",
              "      <th>763</th>\n",
              "      <td>10</td>\n",
              "      <td>101.0</td>\n",
              "      <td>76.0</td>\n",
              "      <td>48.0</td>\n",
              "      <td>180.0</td>\n",
              "      <td>32.9</td>\n",
              "      <td>0.171</td>\n",
              "      <td>63</td>\n",
              "      <td>0</td>\n",
              "    </tr>\n",
              "    <tr>\n",
              "      <th>764</th>\n",
              "      <td>2</td>\n",
              "      <td>122.0</td>\n",
              "      <td>70.0</td>\n",
              "      <td>27.0</td>\n",
              "      <td>125.0</td>\n",
              "      <td>36.8</td>\n",
              "      <td>0.340</td>\n",
              "      <td>27</td>\n",
              "      <td>0</td>\n",
              "    </tr>\n",
              "    <tr>\n",
              "      <th>765</th>\n",
              "      <td>5</td>\n",
              "      <td>121.0</td>\n",
              "      <td>72.0</td>\n",
              "      <td>23.0</td>\n",
              "      <td>112.0</td>\n",
              "      <td>26.2</td>\n",
              "      <td>0.245</td>\n",
              "      <td>30</td>\n",
              "      <td>0</td>\n",
              "    </tr>\n",
              "    <tr>\n",
              "      <th>766</th>\n",
              "      <td>1</td>\n",
              "      <td>126.0</td>\n",
              "      <td>60.0</td>\n",
              "      <td>29.0</td>\n",
              "      <td>125.0</td>\n",
              "      <td>30.1</td>\n",
              "      <td>0.349</td>\n",
              "      <td>47</td>\n",
              "      <td>1</td>\n",
              "    </tr>\n",
              "    <tr>\n",
              "      <th>767</th>\n",
              "      <td>1</td>\n",
              "      <td>93.0</td>\n",
              "      <td>70.0</td>\n",
              "      <td>31.0</td>\n",
              "      <td>125.0</td>\n",
              "      <td>30.4</td>\n",
              "      <td>0.315</td>\n",
              "      <td>23</td>\n",
              "      <td>0</td>\n",
              "    </tr>\n",
              "  </tbody>\n",
              "</table>\n",
              "<p>768 rows × 9 columns</p>\n",
              "</div>\n",
              "    <div class=\"colab-df-buttons\">\n",
              "\n",
              "  <div class=\"colab-df-container\">\n",
              "    <button class=\"colab-df-convert\" onclick=\"convertToInteractive('df-500fdc07-73a9-4bfc-8739-f94affeea40d')\"\n",
              "            title=\"Convert this dataframe to an interactive table.\"\n",
              "            style=\"display:none;\">\n",
              "\n",
              "  <svg xmlns=\"http://www.w3.org/2000/svg\" height=\"24px\" viewBox=\"0 -960 960 960\">\n",
              "    <path d=\"M120-120v-720h720v720H120Zm60-500h600v-160H180v160Zm220 220h160v-160H400v160Zm0 220h160v-160H400v160ZM180-400h160v-160H180v160Zm440 0h160v-160H620v160ZM180-180h160v-160H180v160Zm440 0h160v-160H620v160Z\"/>\n",
              "  </svg>\n",
              "    </button>\n",
              "\n",
              "  <style>\n",
              "    .colab-df-container {\n",
              "      display:flex;\n",
              "      gap: 12px;\n",
              "    }\n",
              "\n",
              "    .colab-df-convert {\n",
              "      background-color: #E8F0FE;\n",
              "      border: none;\n",
              "      border-radius: 50%;\n",
              "      cursor: pointer;\n",
              "      display: none;\n",
              "      fill: #1967D2;\n",
              "      height: 32px;\n",
              "      padding: 0 0 0 0;\n",
              "      width: 32px;\n",
              "    }\n",
              "\n",
              "    .colab-df-convert:hover {\n",
              "      background-color: #E2EBFA;\n",
              "      box-shadow: 0px 1px 2px rgba(60, 64, 67, 0.3), 0px 1px 3px 1px rgba(60, 64, 67, 0.15);\n",
              "      fill: #174EA6;\n",
              "    }\n",
              "\n",
              "    .colab-df-buttons div {\n",
              "      margin-bottom: 4px;\n",
              "    }\n",
              "\n",
              "    [theme=dark] .colab-df-convert {\n",
              "      background-color: #3B4455;\n",
              "      fill: #D2E3FC;\n",
              "    }\n",
              "\n",
              "    [theme=dark] .colab-df-convert:hover {\n",
              "      background-color: #434B5C;\n",
              "      box-shadow: 0px 1px 3px 1px rgba(0, 0, 0, 0.15);\n",
              "      filter: drop-shadow(0px 1px 2px rgba(0, 0, 0, 0.3));\n",
              "      fill: #FFFFFF;\n",
              "    }\n",
              "  </style>\n",
              "\n",
              "    <script>\n",
              "      const buttonEl =\n",
              "        document.querySelector('#df-500fdc07-73a9-4bfc-8739-f94affeea40d button.colab-df-convert');\n",
              "      buttonEl.style.display =\n",
              "        google.colab.kernel.accessAllowed ? 'block' : 'none';\n",
              "\n",
              "      async function convertToInteractive(key) {\n",
              "        const element = document.querySelector('#df-500fdc07-73a9-4bfc-8739-f94affeea40d');\n",
              "        const dataTable =\n",
              "          await google.colab.kernel.invokeFunction('convertToInteractive',\n",
              "                                                    [key], {});\n",
              "        if (!dataTable) return;\n",
              "\n",
              "        const docLinkHtml = 'Like what you see? Visit the ' +\n",
              "          '<a target=\"_blank\" href=https://colab.research.google.com/notebooks/data_table.ipynb>data table notebook</a>'\n",
              "          + ' to learn more about interactive tables.';\n",
              "        element.innerHTML = '';\n",
              "        dataTable['output_type'] = 'display_data';\n",
              "        await google.colab.output.renderOutput(dataTable, element);\n",
              "        const docLink = document.createElement('div');\n",
              "        docLink.innerHTML = docLinkHtml;\n",
              "        element.appendChild(docLink);\n",
              "      }\n",
              "    </script>\n",
              "  </div>\n",
              "\n",
              "\n",
              "<div id=\"df-c6fb3cc5-c6eb-4616-a04d-edcabeed749a\">\n",
              "  <button class=\"colab-df-quickchart\" onclick=\"quickchart('df-c6fb3cc5-c6eb-4616-a04d-edcabeed749a')\"\n",
              "            title=\"Suggest charts\"\n",
              "            style=\"display:none;\">\n",
              "\n",
              "<svg xmlns=\"http://www.w3.org/2000/svg\" height=\"24px\"viewBox=\"0 0 24 24\"\n",
              "     width=\"24px\">\n",
              "    <g>\n",
              "        <path d=\"M19 3H5c-1.1 0-2 .9-2 2v14c0 1.1.9 2 2 2h14c1.1 0 2-.9 2-2V5c0-1.1-.9-2-2-2zM9 17H7v-7h2v7zm4 0h-2V7h2v10zm4 0h-2v-4h2v4z\"/>\n",
              "    </g>\n",
              "</svg>\n",
              "  </button>\n",
              "\n",
              "<style>\n",
              "  .colab-df-quickchart {\n",
              "      --bg-color: #E8F0FE;\n",
              "      --fill-color: #1967D2;\n",
              "      --hover-bg-color: #E2EBFA;\n",
              "      --hover-fill-color: #174EA6;\n",
              "      --disabled-fill-color: #AAA;\n",
              "      --disabled-bg-color: #DDD;\n",
              "  }\n",
              "\n",
              "  [theme=dark] .colab-df-quickchart {\n",
              "      --bg-color: #3B4455;\n",
              "      --fill-color: #D2E3FC;\n",
              "      --hover-bg-color: #434B5C;\n",
              "      --hover-fill-color: #FFFFFF;\n",
              "      --disabled-bg-color: #3B4455;\n",
              "      --disabled-fill-color: #666;\n",
              "  }\n",
              "\n",
              "  .colab-df-quickchart {\n",
              "    background-color: var(--bg-color);\n",
              "    border: none;\n",
              "    border-radius: 50%;\n",
              "    cursor: pointer;\n",
              "    display: none;\n",
              "    fill: var(--fill-color);\n",
              "    height: 32px;\n",
              "    padding: 0;\n",
              "    width: 32px;\n",
              "  }\n",
              "\n",
              "  .colab-df-quickchart:hover {\n",
              "    background-color: var(--hover-bg-color);\n",
              "    box-shadow: 0 1px 2px rgba(60, 64, 67, 0.3), 0 1px 3px 1px rgba(60, 64, 67, 0.15);\n",
              "    fill: var(--button-hover-fill-color);\n",
              "  }\n",
              "\n",
              "  .colab-df-quickchart-complete:disabled,\n",
              "  .colab-df-quickchart-complete:disabled:hover {\n",
              "    background-color: var(--disabled-bg-color);\n",
              "    fill: var(--disabled-fill-color);\n",
              "    box-shadow: none;\n",
              "  }\n",
              "\n",
              "  .colab-df-spinner {\n",
              "    border: 2px solid var(--fill-color);\n",
              "    border-color: transparent;\n",
              "    border-bottom-color: var(--fill-color);\n",
              "    animation:\n",
              "      spin 1s steps(1) infinite;\n",
              "  }\n",
              "\n",
              "  @keyframes spin {\n",
              "    0% {\n",
              "      border-color: transparent;\n",
              "      border-bottom-color: var(--fill-color);\n",
              "      border-left-color: var(--fill-color);\n",
              "    }\n",
              "    20% {\n",
              "      border-color: transparent;\n",
              "      border-left-color: var(--fill-color);\n",
              "      border-top-color: var(--fill-color);\n",
              "    }\n",
              "    30% {\n",
              "      border-color: transparent;\n",
              "      border-left-color: var(--fill-color);\n",
              "      border-top-color: var(--fill-color);\n",
              "      border-right-color: var(--fill-color);\n",
              "    }\n",
              "    40% {\n",
              "      border-color: transparent;\n",
              "      border-right-color: var(--fill-color);\n",
              "      border-top-color: var(--fill-color);\n",
              "    }\n",
              "    60% {\n",
              "      border-color: transparent;\n",
              "      border-right-color: var(--fill-color);\n",
              "    }\n",
              "    80% {\n",
              "      border-color: transparent;\n",
              "      border-right-color: var(--fill-color);\n",
              "      border-bottom-color: var(--fill-color);\n",
              "    }\n",
              "    90% {\n",
              "      border-color: transparent;\n",
              "      border-bottom-color: var(--fill-color);\n",
              "    }\n",
              "  }\n",
              "</style>\n",
              "\n",
              "  <script>\n",
              "    async function quickchart(key) {\n",
              "      const quickchartButtonEl =\n",
              "        document.querySelector('#' + key + ' button');\n",
              "      quickchartButtonEl.disabled = true;  // To prevent multiple clicks.\n",
              "      quickchartButtonEl.classList.add('colab-df-spinner');\n",
              "      try {\n",
              "        const charts = await google.colab.kernel.invokeFunction(\n",
              "            'suggestCharts', [key], {});\n",
              "      } catch (error) {\n",
              "        console.error('Error during call to suggestCharts:', error);\n",
              "      }\n",
              "      quickchartButtonEl.classList.remove('colab-df-spinner');\n",
              "      quickchartButtonEl.classList.add('colab-df-quickchart-complete');\n",
              "    }\n",
              "    (() => {\n",
              "      let quickchartButtonEl =\n",
              "        document.querySelector('#df-c6fb3cc5-c6eb-4616-a04d-edcabeed749a button');\n",
              "      quickchartButtonEl.style.display =\n",
              "        google.colab.kernel.accessAllowed ? 'block' : 'none';\n",
              "    })();\n",
              "  </script>\n",
              "</div>\n",
              "\n",
              "  <div id=\"id_26060674-2f02-4b7a-b62b-dcc04074e1e2\">\n",
              "    <style>\n",
              "      .colab-df-generate {\n",
              "        background-color: #E8F0FE;\n",
              "        border: none;\n",
              "        border-radius: 50%;\n",
              "        cursor: pointer;\n",
              "        display: none;\n",
              "        fill: #1967D2;\n",
              "        height: 32px;\n",
              "        padding: 0 0 0 0;\n",
              "        width: 32px;\n",
              "      }\n",
              "\n",
              "      .colab-df-generate:hover {\n",
              "        background-color: #E2EBFA;\n",
              "        box-shadow: 0px 1px 2px rgba(60, 64, 67, 0.3), 0px 1px 3px 1px rgba(60, 64, 67, 0.15);\n",
              "        fill: #174EA6;\n",
              "      }\n",
              "\n",
              "      [theme=dark] .colab-df-generate {\n",
              "        background-color: #3B4455;\n",
              "        fill: #D2E3FC;\n",
              "      }\n",
              "\n",
              "      [theme=dark] .colab-df-generate:hover {\n",
              "        background-color: #434B5C;\n",
              "        box-shadow: 0px 1px 3px 1px rgba(0, 0, 0, 0.15);\n",
              "        filter: drop-shadow(0px 1px 2px rgba(0, 0, 0, 0.3));\n",
              "        fill: #FFFFFF;\n",
              "      }\n",
              "    </style>\n",
              "    <button class=\"colab-df-generate\" onclick=\"generateWithVariable('df')\"\n",
              "            title=\"Generate code using this dataframe.\"\n",
              "            style=\"display:none;\">\n",
              "\n",
              "  <svg xmlns=\"http://www.w3.org/2000/svg\" height=\"24px\"viewBox=\"0 0 24 24\"\n",
              "       width=\"24px\">\n",
              "    <path d=\"M7,19H8.4L18.45,9,17,7.55,7,17.6ZM5,21V16.75L18.45,3.32a2,2,0,0,1,2.83,0l1.4,1.43a1.91,1.91,0,0,1,.58,1.4,1.91,1.91,0,0,1-.58,1.4L9.25,21ZM18.45,9,17,7.55Zm-12,3A5.31,5.31,0,0,0,4.9,8.1,5.31,5.31,0,0,0,1,6.5,5.31,5.31,0,0,0,4.9,4.9,5.31,5.31,0,0,0,6.5,1,5.31,5.31,0,0,0,8.1,4.9,5.31,5.31,0,0,0,12,6.5,5.46,5.46,0,0,0,6.5,12Z\"/>\n",
              "  </svg>\n",
              "    </button>\n",
              "    <script>\n",
              "      (() => {\n",
              "      const buttonEl =\n",
              "        document.querySelector('#id_26060674-2f02-4b7a-b62b-dcc04074e1e2 button.colab-df-generate');\n",
              "      buttonEl.style.display =\n",
              "        google.colab.kernel.accessAllowed ? 'block' : 'none';\n",
              "\n",
              "      buttonEl.onclick = () => {\n",
              "        google.colab.notebook.generateWithVariable('df');\n",
              "      }\n",
              "      })();\n",
              "    </script>\n",
              "  </div>\n",
              "\n",
              "    </div>\n",
              "  </div>\n"
            ]
          },
          "metadata": {},
          "execution_count": 73
        }
      ]
    },
    {
      "cell_type": "code",
      "source": [
        "df.head()"
      ],
      "metadata": {
        "id": "bzeE3EIauWZT",
        "outputId": "882c8bd9-4857-4591-f6d0-79872f05fbbb",
        "colab": {
          "base_uri": "https://localhost:8080/",
          "height": 206
        }
      },
      "execution_count": 74,
      "outputs": [
        {
          "output_type": "execute_result",
          "data": {
            "text/plain": [
              "   Pregnancies  Glucose  BloodPressure  SkinThickness  Insulin   BMI  \\\n",
              "0            6    148.0           72.0           35.0    125.0  33.6   \n",
              "1            1     85.0           66.0           29.0    125.0  26.6   \n",
              "2            8    183.0           64.0           29.0    125.0  23.3   \n",
              "3            1     89.0           66.0           23.0     94.0  28.1   \n",
              "4            0    137.0           40.0           35.0    168.0  43.1   \n",
              "\n",
              "   DiabetesPedigreeFunction  Age  Outcome  \n",
              "0                     0.627   50        1  \n",
              "1                     0.351   31        0  \n",
              "2                     0.672   32        1  \n",
              "3                     0.167   21        0  \n",
              "4                     2.288   33        1  "
            ],
            "text/html": [
              "\n",
              "  <div id=\"df-2d4021af-fb99-49ff-94fd-c74cb2ec56c0\" class=\"colab-df-container\">\n",
              "    <div>\n",
              "<style scoped>\n",
              "    .dataframe tbody tr th:only-of-type {\n",
              "        vertical-align: middle;\n",
              "    }\n",
              "\n",
              "    .dataframe tbody tr th {\n",
              "        vertical-align: top;\n",
              "    }\n",
              "\n",
              "    .dataframe thead th {\n",
              "        text-align: right;\n",
              "    }\n",
              "</style>\n",
              "<table border=\"1\" class=\"dataframe\">\n",
              "  <thead>\n",
              "    <tr style=\"text-align: right;\">\n",
              "      <th></th>\n",
              "      <th>Pregnancies</th>\n",
              "      <th>Glucose</th>\n",
              "      <th>BloodPressure</th>\n",
              "      <th>SkinThickness</th>\n",
              "      <th>Insulin</th>\n",
              "      <th>BMI</th>\n",
              "      <th>DiabetesPedigreeFunction</th>\n",
              "      <th>Age</th>\n",
              "      <th>Outcome</th>\n",
              "    </tr>\n",
              "  </thead>\n",
              "  <tbody>\n",
              "    <tr>\n",
              "      <th>0</th>\n",
              "      <td>6</td>\n",
              "      <td>148.0</td>\n",
              "      <td>72.0</td>\n",
              "      <td>35.0</td>\n",
              "      <td>125.0</td>\n",
              "      <td>33.6</td>\n",
              "      <td>0.627</td>\n",
              "      <td>50</td>\n",
              "      <td>1</td>\n",
              "    </tr>\n",
              "    <tr>\n",
              "      <th>1</th>\n",
              "      <td>1</td>\n",
              "      <td>85.0</td>\n",
              "      <td>66.0</td>\n",
              "      <td>29.0</td>\n",
              "      <td>125.0</td>\n",
              "      <td>26.6</td>\n",
              "      <td>0.351</td>\n",
              "      <td>31</td>\n",
              "      <td>0</td>\n",
              "    </tr>\n",
              "    <tr>\n",
              "      <th>2</th>\n",
              "      <td>8</td>\n",
              "      <td>183.0</td>\n",
              "      <td>64.0</td>\n",
              "      <td>29.0</td>\n",
              "      <td>125.0</td>\n",
              "      <td>23.3</td>\n",
              "      <td>0.672</td>\n",
              "      <td>32</td>\n",
              "      <td>1</td>\n",
              "    </tr>\n",
              "    <tr>\n",
              "      <th>3</th>\n",
              "      <td>1</td>\n",
              "      <td>89.0</td>\n",
              "      <td>66.0</td>\n",
              "      <td>23.0</td>\n",
              "      <td>94.0</td>\n",
              "      <td>28.1</td>\n",
              "      <td>0.167</td>\n",
              "      <td>21</td>\n",
              "      <td>0</td>\n",
              "    </tr>\n",
              "    <tr>\n",
              "      <th>4</th>\n",
              "      <td>0</td>\n",
              "      <td>137.0</td>\n",
              "      <td>40.0</td>\n",
              "      <td>35.0</td>\n",
              "      <td>168.0</td>\n",
              "      <td>43.1</td>\n",
              "      <td>2.288</td>\n",
              "      <td>33</td>\n",
              "      <td>1</td>\n",
              "    </tr>\n",
              "  </tbody>\n",
              "</table>\n",
              "</div>\n",
              "    <div class=\"colab-df-buttons\">\n",
              "\n",
              "  <div class=\"colab-df-container\">\n",
              "    <button class=\"colab-df-convert\" onclick=\"convertToInteractive('df-2d4021af-fb99-49ff-94fd-c74cb2ec56c0')\"\n",
              "            title=\"Convert this dataframe to an interactive table.\"\n",
              "            style=\"display:none;\">\n",
              "\n",
              "  <svg xmlns=\"http://www.w3.org/2000/svg\" height=\"24px\" viewBox=\"0 -960 960 960\">\n",
              "    <path d=\"M120-120v-720h720v720H120Zm60-500h600v-160H180v160Zm220 220h160v-160H400v160Zm0 220h160v-160H400v160ZM180-400h160v-160H180v160Zm440 0h160v-160H620v160ZM180-180h160v-160H180v160Zm440 0h160v-160H620v160Z\"/>\n",
              "  </svg>\n",
              "    </button>\n",
              "\n",
              "  <style>\n",
              "    .colab-df-container {\n",
              "      display:flex;\n",
              "      gap: 12px;\n",
              "    }\n",
              "\n",
              "    .colab-df-convert {\n",
              "      background-color: #E8F0FE;\n",
              "      border: none;\n",
              "      border-radius: 50%;\n",
              "      cursor: pointer;\n",
              "      display: none;\n",
              "      fill: #1967D2;\n",
              "      height: 32px;\n",
              "      padding: 0 0 0 0;\n",
              "      width: 32px;\n",
              "    }\n",
              "\n",
              "    .colab-df-convert:hover {\n",
              "      background-color: #E2EBFA;\n",
              "      box-shadow: 0px 1px 2px rgba(60, 64, 67, 0.3), 0px 1px 3px 1px rgba(60, 64, 67, 0.15);\n",
              "      fill: #174EA6;\n",
              "    }\n",
              "\n",
              "    .colab-df-buttons div {\n",
              "      margin-bottom: 4px;\n",
              "    }\n",
              "\n",
              "    [theme=dark] .colab-df-convert {\n",
              "      background-color: #3B4455;\n",
              "      fill: #D2E3FC;\n",
              "    }\n",
              "\n",
              "    [theme=dark] .colab-df-convert:hover {\n",
              "      background-color: #434B5C;\n",
              "      box-shadow: 0px 1px 3px 1px rgba(0, 0, 0, 0.15);\n",
              "      filter: drop-shadow(0px 1px 2px rgba(0, 0, 0, 0.3));\n",
              "      fill: #FFFFFF;\n",
              "    }\n",
              "  </style>\n",
              "\n",
              "    <script>\n",
              "      const buttonEl =\n",
              "        document.querySelector('#df-2d4021af-fb99-49ff-94fd-c74cb2ec56c0 button.colab-df-convert');\n",
              "      buttonEl.style.display =\n",
              "        google.colab.kernel.accessAllowed ? 'block' : 'none';\n",
              "\n",
              "      async function convertToInteractive(key) {\n",
              "        const element = document.querySelector('#df-2d4021af-fb99-49ff-94fd-c74cb2ec56c0');\n",
              "        const dataTable =\n",
              "          await google.colab.kernel.invokeFunction('convertToInteractive',\n",
              "                                                    [key], {});\n",
              "        if (!dataTable) return;\n",
              "\n",
              "        const docLinkHtml = 'Like what you see? Visit the ' +\n",
              "          '<a target=\"_blank\" href=https://colab.research.google.com/notebooks/data_table.ipynb>data table notebook</a>'\n",
              "          + ' to learn more about interactive tables.';\n",
              "        element.innerHTML = '';\n",
              "        dataTable['output_type'] = 'display_data';\n",
              "        await google.colab.output.renderOutput(dataTable, element);\n",
              "        const docLink = document.createElement('div');\n",
              "        docLink.innerHTML = docLinkHtml;\n",
              "        element.appendChild(docLink);\n",
              "      }\n",
              "    </script>\n",
              "  </div>\n",
              "\n",
              "\n",
              "<div id=\"df-98129b68-21e8-499b-9191-fa5b3fe58992\">\n",
              "  <button class=\"colab-df-quickchart\" onclick=\"quickchart('df-98129b68-21e8-499b-9191-fa5b3fe58992')\"\n",
              "            title=\"Suggest charts\"\n",
              "            style=\"display:none;\">\n",
              "\n",
              "<svg xmlns=\"http://www.w3.org/2000/svg\" height=\"24px\"viewBox=\"0 0 24 24\"\n",
              "     width=\"24px\">\n",
              "    <g>\n",
              "        <path d=\"M19 3H5c-1.1 0-2 .9-2 2v14c0 1.1.9 2 2 2h14c1.1 0 2-.9 2-2V5c0-1.1-.9-2-2-2zM9 17H7v-7h2v7zm4 0h-2V7h2v10zm4 0h-2v-4h2v4z\"/>\n",
              "    </g>\n",
              "</svg>\n",
              "  </button>\n",
              "\n",
              "<style>\n",
              "  .colab-df-quickchart {\n",
              "      --bg-color: #E8F0FE;\n",
              "      --fill-color: #1967D2;\n",
              "      --hover-bg-color: #E2EBFA;\n",
              "      --hover-fill-color: #174EA6;\n",
              "      --disabled-fill-color: #AAA;\n",
              "      --disabled-bg-color: #DDD;\n",
              "  }\n",
              "\n",
              "  [theme=dark] .colab-df-quickchart {\n",
              "      --bg-color: #3B4455;\n",
              "      --fill-color: #D2E3FC;\n",
              "      --hover-bg-color: #434B5C;\n",
              "      --hover-fill-color: #FFFFFF;\n",
              "      --disabled-bg-color: #3B4455;\n",
              "      --disabled-fill-color: #666;\n",
              "  }\n",
              "\n",
              "  .colab-df-quickchart {\n",
              "    background-color: var(--bg-color);\n",
              "    border: none;\n",
              "    border-radius: 50%;\n",
              "    cursor: pointer;\n",
              "    display: none;\n",
              "    fill: var(--fill-color);\n",
              "    height: 32px;\n",
              "    padding: 0;\n",
              "    width: 32px;\n",
              "  }\n",
              "\n",
              "  .colab-df-quickchart:hover {\n",
              "    background-color: var(--hover-bg-color);\n",
              "    box-shadow: 0 1px 2px rgba(60, 64, 67, 0.3), 0 1px 3px 1px rgba(60, 64, 67, 0.15);\n",
              "    fill: var(--button-hover-fill-color);\n",
              "  }\n",
              "\n",
              "  .colab-df-quickchart-complete:disabled,\n",
              "  .colab-df-quickchart-complete:disabled:hover {\n",
              "    background-color: var(--disabled-bg-color);\n",
              "    fill: var(--disabled-fill-color);\n",
              "    box-shadow: none;\n",
              "  }\n",
              "\n",
              "  .colab-df-spinner {\n",
              "    border: 2px solid var(--fill-color);\n",
              "    border-color: transparent;\n",
              "    border-bottom-color: var(--fill-color);\n",
              "    animation:\n",
              "      spin 1s steps(1) infinite;\n",
              "  }\n",
              "\n",
              "  @keyframes spin {\n",
              "    0% {\n",
              "      border-color: transparent;\n",
              "      border-bottom-color: var(--fill-color);\n",
              "      border-left-color: var(--fill-color);\n",
              "    }\n",
              "    20% {\n",
              "      border-color: transparent;\n",
              "      border-left-color: var(--fill-color);\n",
              "      border-top-color: var(--fill-color);\n",
              "    }\n",
              "    30% {\n",
              "      border-color: transparent;\n",
              "      border-left-color: var(--fill-color);\n",
              "      border-top-color: var(--fill-color);\n",
              "      border-right-color: var(--fill-color);\n",
              "    }\n",
              "    40% {\n",
              "      border-color: transparent;\n",
              "      border-right-color: var(--fill-color);\n",
              "      border-top-color: var(--fill-color);\n",
              "    }\n",
              "    60% {\n",
              "      border-color: transparent;\n",
              "      border-right-color: var(--fill-color);\n",
              "    }\n",
              "    80% {\n",
              "      border-color: transparent;\n",
              "      border-right-color: var(--fill-color);\n",
              "      border-bottom-color: var(--fill-color);\n",
              "    }\n",
              "    90% {\n",
              "      border-color: transparent;\n",
              "      border-bottom-color: var(--fill-color);\n",
              "    }\n",
              "  }\n",
              "</style>\n",
              "\n",
              "  <script>\n",
              "    async function quickchart(key) {\n",
              "      const quickchartButtonEl =\n",
              "        document.querySelector('#' + key + ' button');\n",
              "      quickchartButtonEl.disabled = true;  // To prevent multiple clicks.\n",
              "      quickchartButtonEl.classList.add('colab-df-spinner');\n",
              "      try {\n",
              "        const charts = await google.colab.kernel.invokeFunction(\n",
              "            'suggestCharts', [key], {});\n",
              "      } catch (error) {\n",
              "        console.error('Error during call to suggestCharts:', error);\n",
              "      }\n",
              "      quickchartButtonEl.classList.remove('colab-df-spinner');\n",
              "      quickchartButtonEl.classList.add('colab-df-quickchart-complete');\n",
              "    }\n",
              "    (() => {\n",
              "      let quickchartButtonEl =\n",
              "        document.querySelector('#df-98129b68-21e8-499b-9191-fa5b3fe58992 button');\n",
              "      quickchartButtonEl.style.display =\n",
              "        google.colab.kernel.accessAllowed ? 'block' : 'none';\n",
              "    })();\n",
              "  </script>\n",
              "</div>\n",
              "\n",
              "    </div>\n",
              "  </div>\n"
            ]
          },
          "metadata": {},
          "execution_count": 74
        }
      ]
    },
    {
      "cell_type": "code",
      "source": [
        "df['Outcome'].loc[(df['Outcome'] == 0)] = -1"
      ],
      "metadata": {
        "id": "wyNkPnxfud8j",
        "outputId": "91d98bb9-792b-4168-e368-188562f5ad2d",
        "colab": {
          "base_uri": "https://localhost:8080/"
        }
      },
      "execution_count": 75,
      "outputs": [
        {
          "output_type": "stream",
          "name": "stderr",
          "text": [
            "<ipython-input-75-17896cbcf183>:1: SettingWithCopyWarning: \n",
            "A value is trying to be set on a copy of a slice from a DataFrame\n",
            "\n",
            "See the caveats in the documentation: https://pandas.pydata.org/pandas-docs/stable/user_guide/indexing.html#returning-a-view-versus-a-copy\n",
            "  df['Outcome'].loc[(df['Outcome'] == 0)] = -1\n"
          ]
        }
      ]
    },
    {
      "cell_type": "code",
      "source": [
        "X = df['DiabetesPedigreeFunction'].to_numpy()\n",
        "print(X.shape)"
      ],
      "metadata": {
        "id": "FY-gg4eLuiC6",
        "outputId": "9e4f0124-d804-4ff1-8c7a-a2768240f4c0",
        "colab": {
          "base_uri": "https://localhost:8080/"
        }
      },
      "execution_count": 76,
      "outputs": [
        {
          "output_type": "stream",
          "name": "stdout",
          "text": [
            "(768,)\n"
          ]
        }
      ]
    },
    {
      "cell_type": "code",
      "source": [
        "print(y[0:10])\n",
        "print(y.shape)\n",
        ""
      ],
      "metadata": {
        "id": "WSjKCLu5untx",
        "outputId": "99e28936-7bd0-4e6d-ad38-3e6a33aaa5a8",
        "colab": {
          "base_uri": "https://localhost:8080/"
        }
      },
      "execution_count": 77,
      "outputs": [
        {
          "output_type": "stream",
          "name": "stdout",
          "text": [
            "[[6.33428778]\n",
            " [9.40527849]\n",
            " [8.48372443]\n",
            " [5.60438199]\n",
            " [4.71643995]\n",
            " [5.29307969]\n",
            " [5.82639572]\n",
            " [8.67878666]\n",
            " [6.79819647]\n",
            " [7.74667842]]\n",
            "(100, 1)\n"
          ]
        }
      ]
    },
    {
      "cell_type": "code",
      "source": [
        "y_pred = np.random.randn(2,1)\n",
        "print(y_pred)"
      ],
      "metadata": {
        "id": "A0VFWIisup64",
        "outputId": "5bf59bd0-7e4f-4f72-854d-9db3cc0a42fd",
        "colab": {
          "base_uri": "https://localhost:8080/"
        }
      },
      "execution_count": 78,
      "outputs": [
        {
          "output_type": "stream",
          "name": "stdout",
          "text": [
            "[[ 2.69548871]\n",
            " [-0.94963875]]\n"
          ]
        }
      ]
    },
    {
      "cell_type": "code",
      "source": [
        "##batch gradient descent\n",
        "def gradient_descent(X, y, y_pred, learning_rate=0.01, iterations=100):\n",
        "    '''\n",
        "    X = Matrix of X with added bias units\n",
        "    y = Vector of Y\n",
        "    y_pred = Vector of y_preds np.random.randn(j, 1)\n",
        "    learning_rate\n",
        "    iterations = no of iterations\n",
        "\n",
        "    Returns the final y_pred vector and array of cost history over no of iterations\n",
        "    '''\n",
        "\n",
        "    m = len(y)\n",
        "    cost_history = np.zeros(iterations)\n",
        "    y_pred_history = np.zeros((iterations, 2))\n",
        "\n",
        "    for it in range(iterations):\n",
        "        prediction = np.dot(X, y_pred)\n",
        "        y_pred = y_pred - (1 / m) * learning_rate * (X.T.dot((prediction - y)))\n",
        "        cost_history[it]  = cal_cost(y_pred, X, y)\n",
        "\n",
        "    return y_pred, cost_history"
      ],
      "metadata": {
        "id": "zKHAyS0ZvAzY"
      },
      "execution_count": 79,
      "outputs": []
    },
    {
      "cell_type": "code",
      "source": [
        "fig, ax = plt.subplots(figsize=(12,8))\n",
        "\n",
        "ax.set_ylabel('Error')\n",
        "ax.set_xlabel('Number of iterations')\n",
        "\n",
        "ax.plot(range(n_iter), cost_history, 'b.')\n",
        ""
      ],
      "metadata": {
        "id": "XiQOCJ_PvEy2",
        "outputId": "ad2dc558-836e-429f-f7bd-8f41ee582166",
        "colab": {
          "base_uri": "https://localhost:8080/",
          "height": 713
        }
      },
      "execution_count": 80,
      "outputs": [
        {
          "output_type": "execute_result",
          "data": {
            "text/plain": [
              "[<matplotlib.lines.Line2D at 0x7c092ae3a710>]"
            ]
          },
          "metadata": {},
          "execution_count": 80
        },
        {
          "output_type": "display_data",
          "data": {
            "text/plain": [
              "<Figure size 1200x800 with 1 Axes>"
            ],
            "image/png": "[encoded data removed]"
          },
          "metadata": {}
        }
      ]
    },
    {
      "cell_type": "code",
      "source": [
        "#Stochastic gradient descent\n",
        "lr = 0.007\n",
        "n_iter = 800\n",
        "y_pred = np.random.randn(2, 1)\n",
        "X_b = np.c_[np.ones((len(X), 1)), X]\n",
        "y_pred, cost_history = stocashtic_gradient_descent(X_b, y, y_pred, lr, n_iter)\n",
        "\n",
        "print('y_pred[0]: {:0.3f}\\ny_pred[1]: {:0.3f}'.format(y_pred[0][0], y_pred[1][0]))\n",
        "print('Final error: {:0.3f}'.format(cost_history[-1]))\n",
        "fig, ax = plt.subplots(figsize=(10,8))\n",
        "\n",
        "ax.set_ylabel('Error')\n",
        "ax.set_xlabel('Number of iterations')\n",
        "y_pred = np.random.randn(2,1)\n",
        "\n",
        "ax.plot(range(n_iter), cost_history, 'b.')"
      ],
      "metadata": {
        "id": "CJdW0cx1vIz9",
        "outputId": "57e9b3bb-8d26-4ace-a793-47a9cac3cf9c",
        "colab": {
          "base_uri": "https://localhost:8080/",
          "height": 765
        }
      },
      "execution_count": 81,
      "outputs": [
        {
          "output_type": "stream",
          "name": "stdout",
          "text": [
            "y_pred[0]: 5.572\n",
            "y_pred[1]: 2.260\n",
            "Final error: 198.388\n"
          ]
        },
        {
          "output_type": "execute_result",
          "data": {
            "text/plain": [
              "[<matplotlib.lines.Line2D at 0x7c092aecc8b0>]"
            ]
          },
          "metadata": {},
          "execution_count": 81
        },
        {
          "output_type": "display_data",
          "data": {
            "text/plain": [
              "<Figure size 1000x800 with 1 Axes>"
            ],
            "image/png": "[encoded data removed]"
          },
          "metadata": {}
        }
      ]
    },
    {
      "cell_type": "markdown",
      "source": [
        "y_pred[0]: 6.208\n",
        "\n",
        "y_pred[1]: 1.070\n",
        "\n",
        "Final error: 201.308"
      ],
      "metadata": {
        "id": "rwzWFoIbvydK"
      }
    },
    {
      "cell_type": "code",
      "source": [
        "#mini batch gradient descent\n",
        "lr = 0.1\n",
        "n_iter = 200\n",
        "y_pred = np.random.randn(2,1)\n",
        "y_pred, cost_history = minibatch_gradient_descent(X, y, y_pred, lr, n_iter, batch_size = 10)\n",
        "\n",
        "print('y_pred[0]: {:0.3f}\\ny_pred[1]: {:0.3f}'.format(y_pred[0][0], y_pred[1][0]))\n",
        "print('Final error: {:0.3f}'.format(cost_history[-1]))\n",
        "fig, ax = plt.subplots(figsize=(10,8))\n",
        "\n",
        "ax.set_ylabel('Error')\n",
        "ax.set_xlabel('Number of iterations')\n",
        "y_pred = np.random.randn(2,1)\n",
        "\n",
        "ax.plot(range(n_iter), cost_history, 'b.')\n",
        ""
      ],
      "metadata": {
        "id": "VI8ydfCZvO57",
        "outputId": "e2ecefbc-ca26-4a79-c55c-91006e491653",
        "colab": {
          "base_uri": "https://localhost:8080/",
          "height": 765
        }
      },
      "execution_count": 82,
      "outputs": [
        {
          "output_type": "stream",
          "name": "stdout",
          "text": [
            "y_pred[0]: 6.903\n",
            "y_pred[1]: -0.233\n",
            "Final error: 1728.564\n"
          ]
        },
        {
          "output_type": "execute_result",
          "data": {
            "text/plain": [
              "[<matplotlib.lines.Line2D at 0x7c092ad51270>]"
            ]
          },
          "metadata": {},
          "execution_count": 82
        },
        {
          "output_type": "display_data",
          "data": {
            "text/plain": [
              "<Figure size 1000x800 with 1 Axes>"
            ],
            "image/png": "[encoded data removed]"
          },
          "metadata": {}
        }
      ]
    },
    {
      "cell_type": "markdown",
      "source": [
        "y_pred[0]: 6.898\n",
        "\n",
        "y_pred[1]: -0.222\n",
        "\n",
        "Final error: 1729.235"
      ],
      "metadata": {
        "id": "W3AEg1CMv9za"
      }
    },
    {
      "cell_type": "code",
      "source": [
        "X = df['DiabetesPedigreeFunction'].to_numpy()\n",
        "print(X.shape)"
      ],
      "metadata": {
        "id": "8KKjMbzbvUfd",
        "outputId": "a578904c-5cd9-4ee5-99ec-433a5aaa5ae4",
        "colab": {
          "base_uri": "https://localhost:8080/"
        }
      },
      "execution_count": 83,
      "outputs": [
        {
          "output_type": "stream",
          "name": "stdout",
          "text": [
            "(768,)\n"
          ]
        }
      ]
    },
    {
      "cell_type": "markdown",
      "source": [
        "ANSWER 3:\n",
        "\n",
        "\n",
        "\n"
      ],
      "metadata": {
        "id": "tI22uIfjwD2E"
      }
    },
    {
      "cell_type": "code",
      "source": [
        "X = 2 * np.random.rand(100, 1)\n",
        "y = 4 + 3 * X + np.random.randn(100, 1)\n",
        ""
      ],
      "metadata": {
        "id": "Fa-DEe9OwN1t"
      },
      "execution_count": 84,
      "outputs": []
    },
    {
      "cell_type": "code",
      "source": [
        "\n",
        "###Gradient descent\n",
        "def gradient_descent(X, y, y_pred, learning_rate=0.01, iterations=100):\n",
        "    '''\n",
        "    X = Matrix of X with added bias units\n",
        "    y = Vector of Y\n",
        "    y_pred = Vector of y_preds np.random.randn(j, 1)\n",
        "    learning_rate\n",
        "    iterations = no of iterations\n",
        "\n",
        "    Returns the final y_pred vector and array of cost history over no of iterations\n",
        "    '''\n",
        "\n",
        "    m = len(y)\n",
        "    cost_history = np.zeros(iterations)\n",
        "    y_pred_history = np.zeros((iterations, 2))\n",
        "\n",
        "    for it in range(iterations):\n",
        "        prediction = np.dot(X, y_pred)\n",
        "        y_pred = y_pred - (1 / m) * learning_rate * (X.T.dot((prediction - y)))\n",
        "        y_pred_history[it,:] = y_pred.T\n",
        "        cost_history[it]  = cal_cost(y_pred, X, y)\n",
        "\n",
        "    return y_pred, cost_history, y_pred_history\n",
        "lr = 0.0001\n",
        "n_iter = 1000\n",
        "\n",
        "y_pred = np.random.randn(2,1)\n",
        "X_b = np.c_[np.ones((len(X), 1)), X]\n",
        "y_pred, cost_history, y_pred_history = gradient_descent(X_b, y, y_pred, lr, n_iter)\n",
        "\n",
        "print('y_pred[0]: {:0.3f}\\ny_pred[1]: {:0.3f}'.format(y_pred[0][0], y_pred[1][0]))\n",
        "print('Final error: {:0.3f}'.format(cost_history[-1]))\n",
        "\n",
        "fig, ax = plt.subplots(figsize=(12,8))\n",
        "\n",
        "ax.set_ylabel('Error')\n",
        "ax.set_xlabel('Number of iterations')\n",
        "\n",
        "ax.plot(range(n_iter), cost_history, 'b.')\n",
        ""
      ],
      "metadata": {
        "id": "VIEttlc_wYYp",
        "outputId": "777d40bd-87fe-4d12-82a5-0615526ef798",
        "colab": {
          "base_uri": "https://localhost:8080/",
          "height": 765
        }
      },
      "execution_count": 85,
      "outputs": [
        {
          "output_type": "stream",
          "name": "stdout",
          "text": [
            "y_pred[0]: 0.633\n",
            "y_pred[1]: -0.054\n",
            "Final error: 224586.833\n"
          ]
        },
        {
          "output_type": "execute_result",
          "data": {
            "text/plain": [
              "[<matplotlib.lines.Line2D at 0x7c092adb3fa0>]"
            ]
          },
          "metadata": {},
          "execution_count": 85
        },
        {
          "output_type": "display_data",
          "data": {
            "text/plain": [
              "<Figure size 1200x800 with 1 Axes>"
            ],
            "image/png": "[encoded data removed]"
          },
          "metadata": {}
        }
      ]
    },
    {
      "cell_type": "markdown",
      "source": [
        "y_pred[0]: 0.423\n",
        "y_pred[1]: 1.072\n",
        "Final error: 162819.194"
      ],
      "metadata": {
        "id": "F07QkaUBwcWM"
      }
    },
    {
      "cell_type": "code",
      "source": [
        "\n",
        "\n",
        "###Stochastic Gradient Descent\n",
        "def stocashtic_gradient_descent(X, y, y_pred, learning_rate=0.00001, iterations=10):\n",
        "    '''\n",
        "    X = Matrix of X with added bias units\n",
        "    y = Vector of Y\n",
        "    y_pred = Vector of y_pred np.random.randn(j,1)\n",
        "    learning_rate\n",
        "    iterations = no of iterations\n",
        "\n",
        "    Returns the final y_pred vector and array of cost history over no of iterations\n",
        "    '''\n",
        "\n",
        "    m = len(y)\n",
        "    cost_history = np.zeros(iterations)\n",
        "\n",
        "    for it in range(iterations):\n",
        "        cost = 0.0\n",
        "\n",
        "        for i in range(m):\n",
        "            rand_ind = np.random.randint(0,m)\n",
        "            X_i = X[rand_ind, :].reshape(1, X.shape[1])\n",
        "            y_i = y[rand_ind].reshape(1,1)\n",
        "            prediction = np.dot(X_i, y_pred)\n",
        "\n",
        "            y_pred = y_pred - (1 / m) * learning_rate *(X_i.T.dot((prediction - y_i)))\n",
        "            cost += cal_cost(y_pred, X_i, y_i)\n",
        "\n",
        "        cost_history[it]  = cost\n",
        "\n",
        "    return y_pred, cost_history\n",
        "lr = 0.00001\n",
        "n_iter = 50\n",
        "y_pred = np.random.randn(2, 1)\n",
        "X_b = np.c_[np.ones((len(X), 1)), X]\n",
        "y_pred, cost_history = stocashtic_gradient_descent(X_b, y, y_pred, lr, n_iter)\n",
        "\n",
        "print('y_pred[0]: {:0.3f}\\ny_pred[1]: {:0.3f}'.format(y_pred[0][0], y_pred[1][0]))\n",
        "print('Final error: {:0.3f}'.format(cost_history[-1]))\n",
        "\n",
        "\n",
        "fig, ax = plt.subplots(figsize=(10,8))\n",
        "\n",
        "ax.set_ylabel('Error')\n",
        "ax.set_xlabel('Number of iterations')\n",
        "y_pred = np.random.randn(2,1)\n",
        "\n",
        "ax.plot(range(n_iter), cost_history, 'b.')"
      ],
      "metadata": {
        "id": "TeBVBkQHxB6C"
      },
      "execution_count": null,
      "outputs": []
    },
    {
      "cell_type": "markdown",
      "source": [
        "y_pred[0]: -0.449\n",
        "y_pred[1]: -0.671\n",
        "Final error: 3589.724"
      ],
      "metadata": {
        "id": "9m2HiAc_xIWa"
      }
    },
    {
      "cell_type": "code",
      "source": [
        "###Minbatch gradient descent\n",
        "def minibatch_gradient_descent(X, y, y_pred, learning_rate=0.00001, iterations=10, batch_size=20):\n",
        "    '''\n",
        "    X = Matrix of X without added bias units\n",
        "    y = Vector of Y\n",
        "    y_pred = Vector of y_preds np.random.randn(j, 1)\n",
        "    learning_rate\n",
        "    iterations = no of iterations\n",
        "\n",
        "    Returns the final theta vector and array of cost history over no of iterations\n",
        "    '''\n",
        "\n",
        "    m = len(y)\n",
        "    cost_history = np.zeros(iterations)\n",
        "    n_batches = int(m / batch_size)\n",
        "\n",
        "    for it in range(iterations):\n",
        "        cost = 0.0\n",
        "        indices = np.random.permutation(m)\n",
        "        X = X[indices]\n",
        "        y = y[indices]\n",
        "\n",
        "        for i in range(0, m, batch_size):\n",
        "            X_i = X[i: i + batch_size]\n",
        "            y_i = y[i: i + batch_size]\n",
        "\n",
        "            X_i = np.c_[np.ones(len(X_i)), X_i]\n",
        "            prediction = np.dot(X_i, y_pred)\n",
        "\n",
        "            y_pred = y_pred - (1 / m) * learning_rate * (X_i.T.dot((prediction - y_i)))\n",
        "            cost += cal_cost(y_pred, X_i, y_i)\n",
        "\n",
        "        cost_history[it]  = cost\n",
        "\n",
        "    return y_pred, cost_history\n",
        "\n",
        "\n",
        "lr = 0.00001\n",
        "n_iter = 200\n",
        "y_pred = np.random.randn(2,1)\n",
        "y_pred, cost_history = minibatch_gradient_descent(X, y, y_pred, lr, n_iter)\n",
        "\n",
        "print('y_pred[0]: {:0.3f}\\ny_pred[1]: {:0.3f}'.format(y_pred[0][0], y_pred[1][0]))\n",
        "print('Final error: {:0.3f}'.format(cost_history[-1]))\n",
        "\n",
        "fig, ax = plt.subplots(figsize=(10,8))\n",
        "ax.set_ylabel('Error')\n",
        "ax.set_xlabel('Number of iterations')\n",
        "y_pred = np.random.randn(2,1)\n",
        "\n",
        "ax.plot(range(n_iter), cost_history, 'b.')\n",
        ""
      ],
      "metadata": {
        "id": "srgAjWqxxDza",
        "outputId": "5e1fc663-02c5-43ad-e92a-8074294c5579",
        "colab": {
          "base_uri": "https://localhost:8080/",
          "height": 765
        }
      },
      "execution_count": 87,
      "outputs": [
        {
          "output_type": "stream",
          "name": "stdout",
          "text": [
            "y_pred[0]: 0.697\n",
            "y_pred[1]: 0.294\n",
            "Final error: 39363.102\n"
          ]
        },
        {
          "output_type": "execute_result",
          "data": {
            "text/plain": [
              "[<matplotlib.lines.Line2D at 0x7c092ac6c040>]"
            ]
          },
          "metadata": {},
          "execution_count": 87
        },
        {
          "output_type": "display_data",
          "data": {
            "text/plain": [
              "<Figure size 1000x800 with 1 Axes>"
            ],
            "image/png": "[encoded data removed]"
          },
          "metadata": {}
        }
      ]
    },
    {
      "cell_type": "markdown",
      "source": [
        "y_pred[0]: 1.219\n",
        "y_pred[1]: -0.538\n",
        "Final error: 44862.966\n"
      ],
      "metadata": {
        "id": "s_AAMg4-DCSq"
      }
    }
  ]
}